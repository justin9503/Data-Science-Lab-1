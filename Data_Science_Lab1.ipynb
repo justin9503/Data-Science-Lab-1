{
  "nbformat": 4,
  "nbformat_minor": 0,
  "metadata": {
    "colab": {
      "name": "Data_Science_Lab1.ipynb",
      "provenance": [],
      "collapsed_sections": []
    },
    "kernelspec": {
      "name": "python3",
      "display_name": "Python 3"
    },
    "language_info": {
      "name": "python"
    }
  },
  "cells": [
    {
      "cell_type": "code",
      "execution_count": 2,
      "metadata": {
        "id": "V9GzVFdCMiwA"
      },
      "outputs": [],
      "source": [
        "import numpy as np\n",
        "import pandas as pd\n",
        "import matplotlib.pyplot as plt\n",
        "import seaborn as sns"
      ]
    },
    {
      "cell_type": "code",
      "source": [
        "from google.colab import drive\n",
        "drive.mount('/content/drive')"
      ],
      "metadata": {
        "colab": {
          "base_uri": "https://localhost:8080/"
        },
        "id": "9KFZ8mgtPV_4",
        "outputId": "e9f49852-f2a8-48d0-da04-23fb95a0a60b"
      },
      "execution_count": 3,
      "outputs": [
        {
          "output_type": "stream",
          "name": "stdout",
          "text": [
            "Mounted at /content/drive\n"
          ]
        }
      ]
    },
    {
      "cell_type": "code",
      "source": [
        "data= pd.read_csv('/content/drive/MyDrive/Data Science Lab 1/VoD_DSLab01.csv')"
      ],
      "metadata": {
        "id": "91HXQPECPzaA"
      },
      "execution_count": 4,
      "outputs": []
    },
    {
      "cell_type": "code",
      "source": [
        "data.head()"
      ],
      "metadata": {
        "colab": {
          "base_uri": "https://localhost:8080/",
          "height": 473
        },
        "id": "wL1zqNLIQBOX",
        "outputId": "f754709d-11ff-492f-b1f7-a5110b636717"
      },
      "execution_count": 5,
      "outputs": [
        {
          "output_type": "execute_result",
          "data": {
            "text/plain": [
              "   device_type  live_tv_id  request_url request_method  \\\n",
              "0          0.0         NaN     73218596       HTTP/1.1   \n",
              "1          0.0         NaN     74962598       HTTP/1.1   \n",
              "2          0.0         NaN     74687485       HTTP/1.1   \n",
              "3          0.0         NaN     73908576       HTTP/1.1   \n",
              "4          0.0         NaN     74687475       HTTP/1.1   \n",
              "\n",
              "               time_received  user_loc     byte_sent  vod_encoding  \\\n",
              "0  2021-11-14 06:00:14+00:00         0   1542.095238          10.0   \n",
              "1  2021-11-14 06:19:57+00:00      1816  70985.984127        1659.0   \n",
              "2  2021-11-14 06:21:14+00:00       944  65501.857143        2673.0   \n",
              "3  2021-11-14 06:21:18+00:00         0  73345.412698        2580.0   \n",
              "4  2021-11-14 06:22:01+00:00       944   1579.349206        2673.0   \n",
              "\n",
              "   time_to_serve content_type  ...                    cachecontrol  method  \\\n",
              "0       0.000274   video/mpeg  ...  Cache-Control:max-age=31536000     GET   \n",
              "1       0.430289    video/mp4  ...  Cache-Control:max-age=31536000     GET   \n",
              "2       2.474124    video/mp4  ...  Cache-Control:max-age=31536000     GET   \n",
              "3       0.380959    video/mp4  ...  Cache-Control:max-age=31536000     GET   \n",
              "4       0.000244   video/mpeg  ...  Cache-Control:max-age=31536000     GET   \n",
              "\n",
              "  response_status user_id host_id  vod_id  devicebrand  statuscode  \\\n",
              "0         tcp_hit     NaN       4  2751.0          NaN         206   \n",
              "1         tcp_hit     NaN       4  3031.0          NaN         206   \n",
              "2         tcp_hit     NaN       4  2978.0          NaN         206   \n",
              "3         tcp_hit     NaN       4  2868.0          NaN         206   \n",
              "4         tcp_hit     NaN       4  2978.0          NaN         206   \n",
              "\n",
              "   user_agent  request_header  \n",
              "0        12.0             NaN  \n",
              "1        12.0             NaN  \n",
              "2        12.0             NaN  \n",
              "3        12.0             NaN  \n",
              "4        12.0             NaN  \n",
              "\n",
              "[5 rows x 22 columns]"
            ],
            "text/html": [
              "\n",
              "  <div id=\"df-cbcdb125-5918-4eba-ba8e-794eef86d47c\">\n",
              "    <div class=\"colab-df-container\">\n",
              "      <div>\n",
              "<style scoped>\n",
              "    .dataframe tbody tr th:only-of-type {\n",
              "        vertical-align: middle;\n",
              "    }\n",
              "\n",
              "    .dataframe tbody tr th {\n",
              "        vertical-align: top;\n",
              "    }\n",
              "\n",
              "    .dataframe thead th {\n",
              "        text-align: right;\n",
              "    }\n",
              "</style>\n",
              "<table border=\"1\" class=\"dataframe\">\n",
              "  <thead>\n",
              "    <tr style=\"text-align: right;\">\n",
              "      <th></th>\n",
              "      <th>device_type</th>\n",
              "      <th>live_tv_id</th>\n",
              "      <th>request_url</th>\n",
              "      <th>request_method</th>\n",
              "      <th>time_received</th>\n",
              "      <th>user_loc</th>\n",
              "      <th>byte_sent</th>\n",
              "      <th>vod_encoding</th>\n",
              "      <th>time_to_serve</th>\n",
              "      <th>content_type</th>\n",
              "      <th>...</th>\n",
              "      <th>cachecontrol</th>\n",
              "      <th>method</th>\n",
              "      <th>response_status</th>\n",
              "      <th>user_id</th>\n",
              "      <th>host_id</th>\n",
              "      <th>vod_id</th>\n",
              "      <th>devicebrand</th>\n",
              "      <th>statuscode</th>\n",
              "      <th>user_agent</th>\n",
              "      <th>request_header</th>\n",
              "    </tr>\n",
              "  </thead>\n",
              "  <tbody>\n",
              "    <tr>\n",
              "      <th>0</th>\n",
              "      <td>0.0</td>\n",
              "      <td>NaN</td>\n",
              "      <td>73218596</td>\n",
              "      <td>HTTP/1.1</td>\n",
              "      <td>2021-11-14 06:00:14+00:00</td>\n",
              "      <td>0</td>\n",
              "      <td>1542.095238</td>\n",
              "      <td>10.0</td>\n",
              "      <td>0.000274</td>\n",
              "      <td>video/mpeg</td>\n",
              "      <td>...</td>\n",
              "      <td>Cache-Control:max-age=31536000</td>\n",
              "      <td>GET</td>\n",
              "      <td>tcp_hit</td>\n",
              "      <td>NaN</td>\n",
              "      <td>4</td>\n",
              "      <td>2751.0</td>\n",
              "      <td>NaN</td>\n",
              "      <td>206</td>\n",
              "      <td>12.0</td>\n",
              "      <td>NaN</td>\n",
              "    </tr>\n",
              "    <tr>\n",
              "      <th>1</th>\n",
              "      <td>0.0</td>\n",
              "      <td>NaN</td>\n",
              "      <td>74962598</td>\n",
              "      <td>HTTP/1.1</td>\n",
              "      <td>2021-11-14 06:19:57+00:00</td>\n",
              "      <td>1816</td>\n",
              "      <td>70985.984127</td>\n",
              "      <td>1659.0</td>\n",
              "      <td>0.430289</td>\n",
              "      <td>video/mp4</td>\n",
              "      <td>...</td>\n",
              "      <td>Cache-Control:max-age=31536000</td>\n",
              "      <td>GET</td>\n",
              "      <td>tcp_hit</td>\n",
              "      <td>NaN</td>\n",
              "      <td>4</td>\n",
              "      <td>3031.0</td>\n",
              "      <td>NaN</td>\n",
              "      <td>206</td>\n",
              "      <td>12.0</td>\n",
              "      <td>NaN</td>\n",
              "    </tr>\n",
              "    <tr>\n",
              "      <th>2</th>\n",
              "      <td>0.0</td>\n",
              "      <td>NaN</td>\n",
              "      <td>74687485</td>\n",
              "      <td>HTTP/1.1</td>\n",
              "      <td>2021-11-14 06:21:14+00:00</td>\n",
              "      <td>944</td>\n",
              "      <td>65501.857143</td>\n",
              "      <td>2673.0</td>\n",
              "      <td>2.474124</td>\n",
              "      <td>video/mp4</td>\n",
              "      <td>...</td>\n",
              "      <td>Cache-Control:max-age=31536000</td>\n",
              "      <td>GET</td>\n",
              "      <td>tcp_hit</td>\n",
              "      <td>NaN</td>\n",
              "      <td>4</td>\n",
              "      <td>2978.0</td>\n",
              "      <td>NaN</td>\n",
              "      <td>206</td>\n",
              "      <td>12.0</td>\n",
              "      <td>NaN</td>\n",
              "    </tr>\n",
              "    <tr>\n",
              "      <th>3</th>\n",
              "      <td>0.0</td>\n",
              "      <td>NaN</td>\n",
              "      <td>73908576</td>\n",
              "      <td>HTTP/1.1</td>\n",
              "      <td>2021-11-14 06:21:18+00:00</td>\n",
              "      <td>0</td>\n",
              "      <td>73345.412698</td>\n",
              "      <td>2580.0</td>\n",
              "      <td>0.380959</td>\n",
              "      <td>video/mp4</td>\n",
              "      <td>...</td>\n",
              "      <td>Cache-Control:max-age=31536000</td>\n",
              "      <td>GET</td>\n",
              "      <td>tcp_hit</td>\n",
              "      <td>NaN</td>\n",
              "      <td>4</td>\n",
              "      <td>2868.0</td>\n",
              "      <td>NaN</td>\n",
              "      <td>206</td>\n",
              "      <td>12.0</td>\n",
              "      <td>NaN</td>\n",
              "    </tr>\n",
              "    <tr>\n",
              "      <th>4</th>\n",
              "      <td>0.0</td>\n",
              "      <td>NaN</td>\n",
              "      <td>74687475</td>\n",
              "      <td>HTTP/1.1</td>\n",
              "      <td>2021-11-14 06:22:01+00:00</td>\n",
              "      <td>944</td>\n",
              "      <td>1579.349206</td>\n",
              "      <td>2673.0</td>\n",
              "      <td>0.000244</td>\n",
              "      <td>video/mpeg</td>\n",
              "      <td>...</td>\n",
              "      <td>Cache-Control:max-age=31536000</td>\n",
              "      <td>GET</td>\n",
              "      <td>tcp_hit</td>\n",
              "      <td>NaN</td>\n",
              "      <td>4</td>\n",
              "      <td>2978.0</td>\n",
              "      <td>NaN</td>\n",
              "      <td>206</td>\n",
              "      <td>12.0</td>\n",
              "      <td>NaN</td>\n",
              "    </tr>\n",
              "  </tbody>\n",
              "</table>\n",
              "<p>5 rows × 22 columns</p>\n",
              "</div>\n",
              "      <button class=\"colab-df-convert\" onclick=\"convertToInteractive('df-cbcdb125-5918-4eba-ba8e-794eef86d47c')\"\n",
              "              title=\"Convert this dataframe to an interactive table.\"\n",
              "              style=\"display:none;\">\n",
              "        \n",
              "  <svg xmlns=\"http://www.w3.org/2000/svg\" height=\"24px\"viewBox=\"0 0 24 24\"\n",
              "       width=\"24px\">\n",
              "    <path d=\"M0 0h24v24H0V0z\" fill=\"none\"/>\n",
              "    <path d=\"M18.56 5.44l.94 2.06.94-2.06 2.06-.94-2.06-.94-.94-2.06-.94 2.06-2.06.94zm-11 1L8.5 8.5l.94-2.06 2.06-.94-2.06-.94L8.5 2.5l-.94 2.06-2.06.94zm10 10l.94 2.06.94-2.06 2.06-.94-2.06-.94-.94-2.06-.94 2.06-2.06.94z\"/><path d=\"M17.41 7.96l-1.37-1.37c-.4-.4-.92-.59-1.43-.59-.52 0-1.04.2-1.43.59L10.3 9.45l-7.72 7.72c-.78.78-.78 2.05 0 2.83L4 21.41c.39.39.9.59 1.41.59.51 0 1.02-.2 1.41-.59l7.78-7.78 2.81-2.81c.8-.78.8-2.07 0-2.86zM5.41 20L4 18.59l7.72-7.72 1.47 1.35L5.41 20z\"/>\n",
              "  </svg>\n",
              "      </button>\n",
              "      \n",
              "  <style>\n",
              "    .colab-df-container {\n",
              "      display:flex;\n",
              "      flex-wrap:wrap;\n",
              "      gap: 12px;\n",
              "    }\n",
              "\n",
              "    .colab-df-convert {\n",
              "      background-color: #E8F0FE;\n",
              "      border: none;\n",
              "      border-radius: 50%;\n",
              "      cursor: pointer;\n",
              "      display: none;\n",
              "      fill: #1967D2;\n",
              "      height: 32px;\n",
              "      padding: 0 0 0 0;\n",
              "      width: 32px;\n",
              "    }\n",
              "\n",
              "    .colab-df-convert:hover {\n",
              "      background-color: #E2EBFA;\n",
              "      box-shadow: 0px 1px 2px rgba(60, 64, 67, 0.3), 0px 1px 3px 1px rgba(60, 64, 67, 0.15);\n",
              "      fill: #174EA6;\n",
              "    }\n",
              "\n",
              "    [theme=dark] .colab-df-convert {\n",
              "      background-color: #3B4455;\n",
              "      fill: #D2E3FC;\n",
              "    }\n",
              "\n",
              "    [theme=dark] .colab-df-convert:hover {\n",
              "      background-color: #434B5C;\n",
              "      box-shadow: 0px 1px 3px 1px rgba(0, 0, 0, 0.15);\n",
              "      filter: drop-shadow(0px 1px 2px rgba(0, 0, 0, 0.3));\n",
              "      fill: #FFFFFF;\n",
              "    }\n",
              "  </style>\n",
              "\n",
              "      <script>\n",
              "        const buttonEl =\n",
              "          document.querySelector('#df-cbcdb125-5918-4eba-ba8e-794eef86d47c button.colab-df-convert');\n",
              "        buttonEl.style.display =\n",
              "          google.colab.kernel.accessAllowed ? 'block' : 'none';\n",
              "\n",
              "        async function convertToInteractive(key) {\n",
              "          const element = document.querySelector('#df-cbcdb125-5918-4eba-ba8e-794eef86d47c');\n",
              "          const dataTable =\n",
              "            await google.colab.kernel.invokeFunction('convertToInteractive',\n",
              "                                                     [key], {});\n",
              "          if (!dataTable) return;\n",
              "\n",
              "          const docLinkHtml = 'Like what you see? Visit the ' +\n",
              "            '<a target=\"_blank\" href=https://colab.research.google.com/notebooks/data_table.ipynb>data table notebook</a>'\n",
              "            + ' to learn more about interactive tables.';\n",
              "          element.innerHTML = '';\n",
              "          dataTable['output_type'] = 'display_data';\n",
              "          await google.colab.output.renderOutput(dataTable, element);\n",
              "          const docLink = document.createElement('div');\n",
              "          docLink.innerHTML = docLinkHtml;\n",
              "          element.appendChild(docLink);\n",
              "        }\n",
              "      </script>\n",
              "    </div>\n",
              "  </div>\n",
              "  "
            ]
          },
          "metadata": {},
          "execution_count": 5
        }
      ]
    },
    {
      "cell_type": "code",
      "source": [
        "data.columns"
      ],
      "metadata": {
        "colab": {
          "base_uri": "https://localhost:8080/"
        },
        "id": "zMVYHJDmTepd",
        "outputId": "60f95173-bd34-4e3b-ed4e-e65761c33f86"
      },
      "execution_count": 6,
      "outputs": [
        {
          "output_type": "execute_result",
          "data": {
            "text/plain": [
              "Index(['device_type', 'live_tv_id', 'request_url', 'request_method',\n",
              "       'time_received', 'user_loc', 'byte_sent', 'vod_encoding',\n",
              "       'time_to_serve', 'content_type', 'maxage', 'session_id', 'cachecontrol',\n",
              "       'method', 'response_status', 'user_id', 'host_id', 'vod_id',\n",
              "       'devicebrand', 'statuscode', 'user_agent', 'request_header'],\n",
              "      dtype='object')"
            ]
          },
          "metadata": {},
          "execution_count": 6
        }
      ]
    },
    {
      "cell_type": "code",
      "source": [
        "data.head()"
      ],
      "metadata": {
        "colab": {
          "base_uri": "https://localhost:8080/",
          "height": 473
        },
        "id": "Em6Gk07ZjG__",
        "outputId": "29bf176c-64c8-4647-b42e-b445d99740fc"
      },
      "execution_count": 7,
      "outputs": [
        {
          "output_type": "execute_result",
          "data": {
            "text/plain": [
              "   device_type  live_tv_id  request_url request_method  \\\n",
              "0          0.0         NaN     73218596       HTTP/1.1   \n",
              "1          0.0         NaN     74962598       HTTP/1.1   \n",
              "2          0.0         NaN     74687485       HTTP/1.1   \n",
              "3          0.0         NaN     73908576       HTTP/1.1   \n",
              "4          0.0         NaN     74687475       HTTP/1.1   \n",
              "\n",
              "               time_received  user_loc     byte_sent  vod_encoding  \\\n",
              "0  2021-11-14 06:00:14+00:00         0   1542.095238          10.0   \n",
              "1  2021-11-14 06:19:57+00:00      1816  70985.984127        1659.0   \n",
              "2  2021-11-14 06:21:14+00:00       944  65501.857143        2673.0   \n",
              "3  2021-11-14 06:21:18+00:00         0  73345.412698        2580.0   \n",
              "4  2021-11-14 06:22:01+00:00       944   1579.349206        2673.0   \n",
              "\n",
              "   time_to_serve content_type  ...                    cachecontrol  method  \\\n",
              "0       0.000274   video/mpeg  ...  Cache-Control:max-age=31536000     GET   \n",
              "1       0.430289    video/mp4  ...  Cache-Control:max-age=31536000     GET   \n",
              "2       2.474124    video/mp4  ...  Cache-Control:max-age=31536000     GET   \n",
              "3       0.380959    video/mp4  ...  Cache-Control:max-age=31536000     GET   \n",
              "4       0.000244   video/mpeg  ...  Cache-Control:max-age=31536000     GET   \n",
              "\n",
              "  response_status user_id host_id  vod_id  devicebrand  statuscode  \\\n",
              "0         tcp_hit     NaN       4  2751.0          NaN         206   \n",
              "1         tcp_hit     NaN       4  3031.0          NaN         206   \n",
              "2         tcp_hit     NaN       4  2978.0          NaN         206   \n",
              "3         tcp_hit     NaN       4  2868.0          NaN         206   \n",
              "4         tcp_hit     NaN       4  2978.0          NaN         206   \n",
              "\n",
              "   user_agent  request_header  \n",
              "0        12.0             NaN  \n",
              "1        12.0             NaN  \n",
              "2        12.0             NaN  \n",
              "3        12.0             NaN  \n",
              "4        12.0             NaN  \n",
              "\n",
              "[5 rows x 22 columns]"
            ],
            "text/html": [
              "\n",
              "  <div id=\"df-197f3890-1225-4dd7-abd5-80be97e73f77\">\n",
              "    <div class=\"colab-df-container\">\n",
              "      <div>\n",
              "<style scoped>\n",
              "    .dataframe tbody tr th:only-of-type {\n",
              "        vertical-align: middle;\n",
              "    }\n",
              "\n",
              "    .dataframe tbody tr th {\n",
              "        vertical-align: top;\n",
              "    }\n",
              "\n",
              "    .dataframe thead th {\n",
              "        text-align: right;\n",
              "    }\n",
              "</style>\n",
              "<table border=\"1\" class=\"dataframe\">\n",
              "  <thead>\n",
              "    <tr style=\"text-align: right;\">\n",
              "      <th></th>\n",
              "      <th>device_type</th>\n",
              "      <th>live_tv_id</th>\n",
              "      <th>request_url</th>\n",
              "      <th>request_method</th>\n",
              "      <th>time_received</th>\n",
              "      <th>user_loc</th>\n",
              "      <th>byte_sent</th>\n",
              "      <th>vod_encoding</th>\n",
              "      <th>time_to_serve</th>\n",
              "      <th>content_type</th>\n",
              "      <th>...</th>\n",
              "      <th>cachecontrol</th>\n",
              "      <th>method</th>\n",
              "      <th>response_status</th>\n",
              "      <th>user_id</th>\n",
              "      <th>host_id</th>\n",
              "      <th>vod_id</th>\n",
              "      <th>devicebrand</th>\n",
              "      <th>statuscode</th>\n",
              "      <th>user_agent</th>\n",
              "      <th>request_header</th>\n",
              "    </tr>\n",
              "  </thead>\n",
              "  <tbody>\n",
              "    <tr>\n",
              "      <th>0</th>\n",
              "      <td>0.0</td>\n",
              "      <td>NaN</td>\n",
              "      <td>73218596</td>\n",
              "      <td>HTTP/1.1</td>\n",
              "      <td>2021-11-14 06:00:14+00:00</td>\n",
              "      <td>0</td>\n",
              "      <td>1542.095238</td>\n",
              "      <td>10.0</td>\n",
              "      <td>0.000274</td>\n",
              "      <td>video/mpeg</td>\n",
              "      <td>...</td>\n",
              "      <td>Cache-Control:max-age=31536000</td>\n",
              "      <td>GET</td>\n",
              "      <td>tcp_hit</td>\n",
              "      <td>NaN</td>\n",
              "      <td>4</td>\n",
              "      <td>2751.0</td>\n",
              "      <td>NaN</td>\n",
              "      <td>206</td>\n",
              "      <td>12.0</td>\n",
              "      <td>NaN</td>\n",
              "    </tr>\n",
              "    <tr>\n",
              "      <th>1</th>\n",
              "      <td>0.0</td>\n",
              "      <td>NaN</td>\n",
              "      <td>74962598</td>\n",
              "      <td>HTTP/1.1</td>\n",
              "      <td>2021-11-14 06:19:57+00:00</td>\n",
              "      <td>1816</td>\n",
              "      <td>70985.984127</td>\n",
              "      <td>1659.0</td>\n",
              "      <td>0.430289</td>\n",
              "      <td>video/mp4</td>\n",
              "      <td>...</td>\n",
              "      <td>Cache-Control:max-age=31536000</td>\n",
              "      <td>GET</td>\n",
              "      <td>tcp_hit</td>\n",
              "      <td>NaN</td>\n",
              "      <td>4</td>\n",
              "      <td>3031.0</td>\n",
              "      <td>NaN</td>\n",
              "      <td>206</td>\n",
              "      <td>12.0</td>\n",
              "      <td>NaN</td>\n",
              "    </tr>\n",
              "    <tr>\n",
              "      <th>2</th>\n",
              "      <td>0.0</td>\n",
              "      <td>NaN</td>\n",
              "      <td>74687485</td>\n",
              "      <td>HTTP/1.1</td>\n",
              "      <td>2021-11-14 06:21:14+00:00</td>\n",
              "      <td>944</td>\n",
              "      <td>65501.857143</td>\n",
              "      <td>2673.0</td>\n",
              "      <td>2.474124</td>\n",
              "      <td>video/mp4</td>\n",
              "      <td>...</td>\n",
              "      <td>Cache-Control:max-age=31536000</td>\n",
              "      <td>GET</td>\n",
              "      <td>tcp_hit</td>\n",
              "      <td>NaN</td>\n",
              "      <td>4</td>\n",
              "      <td>2978.0</td>\n",
              "      <td>NaN</td>\n",
              "      <td>206</td>\n",
              "      <td>12.0</td>\n",
              "      <td>NaN</td>\n",
              "    </tr>\n",
              "    <tr>\n",
              "      <th>3</th>\n",
              "      <td>0.0</td>\n",
              "      <td>NaN</td>\n",
              "      <td>73908576</td>\n",
              "      <td>HTTP/1.1</td>\n",
              "      <td>2021-11-14 06:21:18+00:00</td>\n",
              "      <td>0</td>\n",
              "      <td>73345.412698</td>\n",
              "      <td>2580.0</td>\n",
              "      <td>0.380959</td>\n",
              "      <td>video/mp4</td>\n",
              "      <td>...</td>\n",
              "      <td>Cache-Control:max-age=31536000</td>\n",
              "      <td>GET</td>\n",
              "      <td>tcp_hit</td>\n",
              "      <td>NaN</td>\n",
              "      <td>4</td>\n",
              "      <td>2868.0</td>\n",
              "      <td>NaN</td>\n",
              "      <td>206</td>\n",
              "      <td>12.0</td>\n",
              "      <td>NaN</td>\n",
              "    </tr>\n",
              "    <tr>\n",
              "      <th>4</th>\n",
              "      <td>0.0</td>\n",
              "      <td>NaN</td>\n",
              "      <td>74687475</td>\n",
              "      <td>HTTP/1.1</td>\n",
              "      <td>2021-11-14 06:22:01+00:00</td>\n",
              "      <td>944</td>\n",
              "      <td>1579.349206</td>\n",
              "      <td>2673.0</td>\n",
              "      <td>0.000244</td>\n",
              "      <td>video/mpeg</td>\n",
              "      <td>...</td>\n",
              "      <td>Cache-Control:max-age=31536000</td>\n",
              "      <td>GET</td>\n",
              "      <td>tcp_hit</td>\n",
              "      <td>NaN</td>\n",
              "      <td>4</td>\n",
              "      <td>2978.0</td>\n",
              "      <td>NaN</td>\n",
              "      <td>206</td>\n",
              "      <td>12.0</td>\n",
              "      <td>NaN</td>\n",
              "    </tr>\n",
              "  </tbody>\n",
              "</table>\n",
              "<p>5 rows × 22 columns</p>\n",
              "</div>\n",
              "      <button class=\"colab-df-convert\" onclick=\"convertToInteractive('df-197f3890-1225-4dd7-abd5-80be97e73f77')\"\n",
              "              title=\"Convert this dataframe to an interactive table.\"\n",
              "              style=\"display:none;\">\n",
              "        \n",
              "  <svg xmlns=\"http://www.w3.org/2000/svg\" height=\"24px\"viewBox=\"0 0 24 24\"\n",
              "       width=\"24px\">\n",
              "    <path d=\"M0 0h24v24H0V0z\" fill=\"none\"/>\n",
              "    <path d=\"M18.56 5.44l.94 2.06.94-2.06 2.06-.94-2.06-.94-.94-2.06-.94 2.06-2.06.94zm-11 1L8.5 8.5l.94-2.06 2.06-.94-2.06-.94L8.5 2.5l-.94 2.06-2.06.94zm10 10l.94 2.06.94-2.06 2.06-.94-2.06-.94-.94-2.06-.94 2.06-2.06.94z\"/><path d=\"M17.41 7.96l-1.37-1.37c-.4-.4-.92-.59-1.43-.59-.52 0-1.04.2-1.43.59L10.3 9.45l-7.72 7.72c-.78.78-.78 2.05 0 2.83L4 21.41c.39.39.9.59 1.41.59.51 0 1.02-.2 1.41-.59l7.78-7.78 2.81-2.81c.8-.78.8-2.07 0-2.86zM5.41 20L4 18.59l7.72-7.72 1.47 1.35L5.41 20z\"/>\n",
              "  </svg>\n",
              "      </button>\n",
              "      \n",
              "  <style>\n",
              "    .colab-df-container {\n",
              "      display:flex;\n",
              "      flex-wrap:wrap;\n",
              "      gap: 12px;\n",
              "    }\n",
              "\n",
              "    .colab-df-convert {\n",
              "      background-color: #E8F0FE;\n",
              "      border: none;\n",
              "      border-radius: 50%;\n",
              "      cursor: pointer;\n",
              "      display: none;\n",
              "      fill: #1967D2;\n",
              "      height: 32px;\n",
              "      padding: 0 0 0 0;\n",
              "      width: 32px;\n",
              "    }\n",
              "\n",
              "    .colab-df-convert:hover {\n",
              "      background-color: #E2EBFA;\n",
              "      box-shadow: 0px 1px 2px rgba(60, 64, 67, 0.3), 0px 1px 3px 1px rgba(60, 64, 67, 0.15);\n",
              "      fill: #174EA6;\n",
              "    }\n",
              "\n",
              "    [theme=dark] .colab-df-convert {\n",
              "      background-color: #3B4455;\n",
              "      fill: #D2E3FC;\n",
              "    }\n",
              "\n",
              "    [theme=dark] .colab-df-convert:hover {\n",
              "      background-color: #434B5C;\n",
              "      box-shadow: 0px 1px 3px 1px rgba(0, 0, 0, 0.15);\n",
              "      filter: drop-shadow(0px 1px 2px rgba(0, 0, 0, 0.3));\n",
              "      fill: #FFFFFF;\n",
              "    }\n",
              "  </style>\n",
              "\n",
              "      <script>\n",
              "        const buttonEl =\n",
              "          document.querySelector('#df-197f3890-1225-4dd7-abd5-80be97e73f77 button.colab-df-convert');\n",
              "        buttonEl.style.display =\n",
              "          google.colab.kernel.accessAllowed ? 'block' : 'none';\n",
              "\n",
              "        async function convertToInteractive(key) {\n",
              "          const element = document.querySelector('#df-197f3890-1225-4dd7-abd5-80be97e73f77');\n",
              "          const dataTable =\n",
              "            await google.colab.kernel.invokeFunction('convertToInteractive',\n",
              "                                                     [key], {});\n",
              "          if (!dataTable) return;\n",
              "\n",
              "          const docLinkHtml = 'Like what you see? Visit the ' +\n",
              "            '<a target=\"_blank\" href=https://colab.research.google.com/notebooks/data_table.ipynb>data table notebook</a>'\n",
              "            + ' to learn more about interactive tables.';\n",
              "          element.innerHTML = '';\n",
              "          dataTable['output_type'] = 'display_data';\n",
              "          await google.colab.output.renderOutput(dataTable, element);\n",
              "          const docLink = document.createElement('div');\n",
              "          docLink.innerHTML = docLinkHtml;\n",
              "          element.appendChild(docLink);\n",
              "        }\n",
              "      </script>\n",
              "    </div>\n",
              "  </div>\n",
              "  "
            ]
          },
          "metadata": {},
          "execution_count": 7
        }
      ]
    },
    {
      "cell_type": "code",
      "source": [
        "data.columns"
      ],
      "metadata": {
        "colab": {
          "base_uri": "https://localhost:8080/"
        },
        "id": "J-DQj-jflEE1",
        "outputId": "a9140fd0-8978-47db-c202-5881a7a4e2de"
      },
      "execution_count": 8,
      "outputs": [
        {
          "output_type": "execute_result",
          "data": {
            "text/plain": [
              "Index(['device_type', 'live_tv_id', 'request_url', 'request_method',\n",
              "       'time_received', 'user_loc', 'byte_sent', 'vod_encoding',\n",
              "       'time_to_serve', 'content_type', 'maxage', 'session_id', 'cachecontrol',\n",
              "       'method', 'response_status', 'user_id', 'host_id', 'vod_id',\n",
              "       'devicebrand', 'statuscode', 'user_agent', 'request_header'],\n",
              "      dtype='object')"
            ]
          },
          "metadata": {},
          "execution_count": 8
        }
      ]
    },
    {
      "cell_type": "code",
      "source": [
        "data.shape"
      ],
      "metadata": {
        "colab": {
          "base_uri": "https://localhost:8080/"
        },
        "id": "k_-q1Mpwplf7",
        "outputId": "79ad7ec3-b677-4b42-9949-4d1da42b5417"
      },
      "execution_count": 9,
      "outputs": [
        {
          "output_type": "execute_result",
          "data": {
            "text/plain": [
              "(1577063, 22)"
            ]
          },
          "metadata": {},
          "execution_count": 9
        }
      ]
    },
    {
      "cell_type": "code",
      "source": [
        "data.count()"
      ],
      "metadata": {
        "colab": {
          "base_uri": "https://localhost:8080/"
        },
        "id": "W0DAl19Ep7Xq",
        "outputId": "65112b0f-e279-46ee-d3f9-75ca800d7763"
      },
      "execution_count": 10,
      "outputs": [
        {
          "output_type": "execute_result",
          "data": {
            "text/plain": [
              "device_type        1268967\n",
              "live_tv_id               0\n",
              "request_url        1577063\n",
              "request_method     1577063\n",
              "time_received      1577063\n",
              "user_loc           1577063\n",
              "byte_sent          1577063\n",
              "vod_encoding       1571865\n",
              "time_to_serve      1577063\n",
              "content_type       1577063\n",
              "maxage             1567680\n",
              "session_id         1577063\n",
              "cachecontrol       1577063\n",
              "method             1577063\n",
              "response_status    1577063\n",
              "user_id             144863\n",
              "host_id            1577063\n",
              "vod_id             1571865\n",
              "devicebrand         159026\n",
              "statuscode         1577063\n",
              "user_agent         1268967\n",
              "request_header      101359\n",
              "dtype: int64"
            ]
          },
          "metadata": {},
          "execution_count": 10
        }
      ]
    },
    {
      "cell_type": "code",
      "source": [
        "data.drop('live_tv_id', axis=1, inplace=True)"
      ],
      "metadata": {
        "id": "flkdQXqbLRIX"
      },
      "execution_count": 11,
      "outputs": []
    },
    {
      "cell_type": "code",
      "source": [
        "data.head()"
      ],
      "metadata": {
        "colab": {
          "base_uri": "https://localhost:8080/",
          "height": 473
        },
        "id": "y1-RML-UZH1D",
        "outputId": "150bd7d8-c8b6-48f6-e955-6b19d798974d"
      },
      "execution_count": 12,
      "outputs": [
        {
          "output_type": "execute_result",
          "data": {
            "text/plain": [
              "   device_type  request_url request_method              time_received  \\\n",
              "0          0.0     73218596       HTTP/1.1  2021-11-14 06:00:14+00:00   \n",
              "1          0.0     74962598       HTTP/1.1  2021-11-14 06:19:57+00:00   \n",
              "2          0.0     74687485       HTTP/1.1  2021-11-14 06:21:14+00:00   \n",
              "3          0.0     73908576       HTTP/1.1  2021-11-14 06:21:18+00:00   \n",
              "4          0.0     74687475       HTTP/1.1  2021-11-14 06:22:01+00:00   \n",
              "\n",
              "   user_loc     byte_sent  vod_encoding  time_to_serve content_type  \\\n",
              "0         0   1542.095238          10.0       0.000274   video/mpeg   \n",
              "1      1816  70985.984127        1659.0       0.430289    video/mp4   \n",
              "2       944  65501.857143        2673.0       2.474124    video/mp4   \n",
              "3         0  73345.412698        2580.0       0.380959    video/mp4   \n",
              "4       944   1579.349206        2673.0       0.000244   video/mpeg   \n",
              "\n",
              "       maxage  ...                    cachecontrol method response_status  \\\n",
              "0  31536000.0  ...  Cache-Control:max-age=31536000    GET         tcp_hit   \n",
              "1  31536000.0  ...  Cache-Control:max-age=31536000    GET         tcp_hit   \n",
              "2  31536000.0  ...  Cache-Control:max-age=31536000    GET         tcp_hit   \n",
              "3  31536000.0  ...  Cache-Control:max-age=31536000    GET         tcp_hit   \n",
              "4  31536000.0  ...  Cache-Control:max-age=31536000    GET         tcp_hit   \n",
              "\n",
              "  user_id  host_id  vod_id  devicebrand  statuscode  user_agent  \\\n",
              "0     NaN        4  2751.0          NaN         206        12.0   \n",
              "1     NaN        4  3031.0          NaN         206        12.0   \n",
              "2     NaN        4  2978.0          NaN         206        12.0   \n",
              "3     NaN        4  2868.0          NaN         206        12.0   \n",
              "4     NaN        4  2978.0          NaN         206        12.0   \n",
              "\n",
              "   request_header  \n",
              "0             NaN  \n",
              "1             NaN  \n",
              "2             NaN  \n",
              "3             NaN  \n",
              "4             NaN  \n",
              "\n",
              "[5 rows x 21 columns]"
            ],
            "text/html": [
              "\n",
              "  <div id=\"df-248083bb-8e2e-4085-9bb5-311c8014a583\">\n",
              "    <div class=\"colab-df-container\">\n",
              "      <div>\n",
              "<style scoped>\n",
              "    .dataframe tbody tr th:only-of-type {\n",
              "        vertical-align: middle;\n",
              "    }\n",
              "\n",
              "    .dataframe tbody tr th {\n",
              "        vertical-align: top;\n",
              "    }\n",
              "\n",
              "    .dataframe thead th {\n",
              "        text-align: right;\n",
              "    }\n",
              "</style>\n",
              "<table border=\"1\" class=\"dataframe\">\n",
              "  <thead>\n",
              "    <tr style=\"text-align: right;\">\n",
              "      <th></th>\n",
              "      <th>device_type</th>\n",
              "      <th>request_url</th>\n",
              "      <th>request_method</th>\n",
              "      <th>time_received</th>\n",
              "      <th>user_loc</th>\n",
              "      <th>byte_sent</th>\n",
              "      <th>vod_encoding</th>\n",
              "      <th>time_to_serve</th>\n",
              "      <th>content_type</th>\n",
              "      <th>maxage</th>\n",
              "      <th>...</th>\n",
              "      <th>cachecontrol</th>\n",
              "      <th>method</th>\n",
              "      <th>response_status</th>\n",
              "      <th>user_id</th>\n",
              "      <th>host_id</th>\n",
              "      <th>vod_id</th>\n",
              "      <th>devicebrand</th>\n",
              "      <th>statuscode</th>\n",
              "      <th>user_agent</th>\n",
              "      <th>request_header</th>\n",
              "    </tr>\n",
              "  </thead>\n",
              "  <tbody>\n",
              "    <tr>\n",
              "      <th>0</th>\n",
              "      <td>0.0</td>\n",
              "      <td>73218596</td>\n",
              "      <td>HTTP/1.1</td>\n",
              "      <td>2021-11-14 06:00:14+00:00</td>\n",
              "      <td>0</td>\n",
              "      <td>1542.095238</td>\n",
              "      <td>10.0</td>\n",
              "      <td>0.000274</td>\n",
              "      <td>video/mpeg</td>\n",
              "      <td>31536000.0</td>\n",
              "      <td>...</td>\n",
              "      <td>Cache-Control:max-age=31536000</td>\n",
              "      <td>GET</td>\n",
              "      <td>tcp_hit</td>\n",
              "      <td>NaN</td>\n",
              "      <td>4</td>\n",
              "      <td>2751.0</td>\n",
              "      <td>NaN</td>\n",
              "      <td>206</td>\n",
              "      <td>12.0</td>\n",
              "      <td>NaN</td>\n",
              "    </tr>\n",
              "    <tr>\n",
              "      <th>1</th>\n",
              "      <td>0.0</td>\n",
              "      <td>74962598</td>\n",
              "      <td>HTTP/1.1</td>\n",
              "      <td>2021-11-14 06:19:57+00:00</td>\n",
              "      <td>1816</td>\n",
              "      <td>70985.984127</td>\n",
              "      <td>1659.0</td>\n",
              "      <td>0.430289</td>\n",
              "      <td>video/mp4</td>\n",
              "      <td>31536000.0</td>\n",
              "      <td>...</td>\n",
              "      <td>Cache-Control:max-age=31536000</td>\n",
              "      <td>GET</td>\n",
              "      <td>tcp_hit</td>\n",
              "      <td>NaN</td>\n",
              "      <td>4</td>\n",
              "      <td>3031.0</td>\n",
              "      <td>NaN</td>\n",
              "      <td>206</td>\n",
              "      <td>12.0</td>\n",
              "      <td>NaN</td>\n",
              "    </tr>\n",
              "    <tr>\n",
              "      <th>2</th>\n",
              "      <td>0.0</td>\n",
              "      <td>74687485</td>\n",
              "      <td>HTTP/1.1</td>\n",
              "      <td>2021-11-14 06:21:14+00:00</td>\n",
              "      <td>944</td>\n",
              "      <td>65501.857143</td>\n",
              "      <td>2673.0</td>\n",
              "      <td>2.474124</td>\n",
              "      <td>video/mp4</td>\n",
              "      <td>31536000.0</td>\n",
              "      <td>...</td>\n",
              "      <td>Cache-Control:max-age=31536000</td>\n",
              "      <td>GET</td>\n",
              "      <td>tcp_hit</td>\n",
              "      <td>NaN</td>\n",
              "      <td>4</td>\n",
              "      <td>2978.0</td>\n",
              "      <td>NaN</td>\n",
              "      <td>206</td>\n",
              "      <td>12.0</td>\n",
              "      <td>NaN</td>\n",
              "    </tr>\n",
              "    <tr>\n",
              "      <th>3</th>\n",
              "      <td>0.0</td>\n",
              "      <td>73908576</td>\n",
              "      <td>HTTP/1.1</td>\n",
              "      <td>2021-11-14 06:21:18+00:00</td>\n",
              "      <td>0</td>\n",
              "      <td>73345.412698</td>\n",
              "      <td>2580.0</td>\n",
              "      <td>0.380959</td>\n",
              "      <td>video/mp4</td>\n",
              "      <td>31536000.0</td>\n",
              "      <td>...</td>\n",
              "      <td>Cache-Control:max-age=31536000</td>\n",
              "      <td>GET</td>\n",
              "      <td>tcp_hit</td>\n",
              "      <td>NaN</td>\n",
              "      <td>4</td>\n",
              "      <td>2868.0</td>\n",
              "      <td>NaN</td>\n",
              "      <td>206</td>\n",
              "      <td>12.0</td>\n",
              "      <td>NaN</td>\n",
              "    </tr>\n",
              "    <tr>\n",
              "      <th>4</th>\n",
              "      <td>0.0</td>\n",
              "      <td>74687475</td>\n",
              "      <td>HTTP/1.1</td>\n",
              "      <td>2021-11-14 06:22:01+00:00</td>\n",
              "      <td>944</td>\n",
              "      <td>1579.349206</td>\n",
              "      <td>2673.0</td>\n",
              "      <td>0.000244</td>\n",
              "      <td>video/mpeg</td>\n",
              "      <td>31536000.0</td>\n",
              "      <td>...</td>\n",
              "      <td>Cache-Control:max-age=31536000</td>\n",
              "      <td>GET</td>\n",
              "      <td>tcp_hit</td>\n",
              "      <td>NaN</td>\n",
              "      <td>4</td>\n",
              "      <td>2978.0</td>\n",
              "      <td>NaN</td>\n",
              "      <td>206</td>\n",
              "      <td>12.0</td>\n",
              "      <td>NaN</td>\n",
              "    </tr>\n",
              "  </tbody>\n",
              "</table>\n",
              "<p>5 rows × 21 columns</p>\n",
              "</div>\n",
              "      <button class=\"colab-df-convert\" onclick=\"convertToInteractive('df-248083bb-8e2e-4085-9bb5-311c8014a583')\"\n",
              "              title=\"Convert this dataframe to an interactive table.\"\n",
              "              style=\"display:none;\">\n",
              "        \n",
              "  <svg xmlns=\"http://www.w3.org/2000/svg\" height=\"24px\"viewBox=\"0 0 24 24\"\n",
              "       width=\"24px\">\n",
              "    <path d=\"M0 0h24v24H0V0z\" fill=\"none\"/>\n",
              "    <path d=\"M18.56 5.44l.94 2.06.94-2.06 2.06-.94-2.06-.94-.94-2.06-.94 2.06-2.06.94zm-11 1L8.5 8.5l.94-2.06 2.06-.94-2.06-.94L8.5 2.5l-.94 2.06-2.06.94zm10 10l.94 2.06.94-2.06 2.06-.94-2.06-.94-.94-2.06-.94 2.06-2.06.94z\"/><path d=\"M17.41 7.96l-1.37-1.37c-.4-.4-.92-.59-1.43-.59-.52 0-1.04.2-1.43.59L10.3 9.45l-7.72 7.72c-.78.78-.78 2.05 0 2.83L4 21.41c.39.39.9.59 1.41.59.51 0 1.02-.2 1.41-.59l7.78-7.78 2.81-2.81c.8-.78.8-2.07 0-2.86zM5.41 20L4 18.59l7.72-7.72 1.47 1.35L5.41 20z\"/>\n",
              "  </svg>\n",
              "      </button>\n",
              "      \n",
              "  <style>\n",
              "    .colab-df-container {\n",
              "      display:flex;\n",
              "      flex-wrap:wrap;\n",
              "      gap: 12px;\n",
              "    }\n",
              "\n",
              "    .colab-df-convert {\n",
              "      background-color: #E8F0FE;\n",
              "      border: none;\n",
              "      border-radius: 50%;\n",
              "      cursor: pointer;\n",
              "      display: none;\n",
              "      fill: #1967D2;\n",
              "      height: 32px;\n",
              "      padding: 0 0 0 0;\n",
              "      width: 32px;\n",
              "    }\n",
              "\n",
              "    .colab-df-convert:hover {\n",
              "      background-color: #E2EBFA;\n",
              "      box-shadow: 0px 1px 2px rgba(60, 64, 67, 0.3), 0px 1px 3px 1px rgba(60, 64, 67, 0.15);\n",
              "      fill: #174EA6;\n",
              "    }\n",
              "\n",
              "    [theme=dark] .colab-df-convert {\n",
              "      background-color: #3B4455;\n",
              "      fill: #D2E3FC;\n",
              "    }\n",
              "\n",
              "    [theme=dark] .colab-df-convert:hover {\n",
              "      background-color: #434B5C;\n",
              "      box-shadow: 0px 1px 3px 1px rgba(0, 0, 0, 0.15);\n",
              "      filter: drop-shadow(0px 1px 2px rgba(0, 0, 0, 0.3));\n",
              "      fill: #FFFFFF;\n",
              "    }\n",
              "  </style>\n",
              "\n",
              "      <script>\n",
              "        const buttonEl =\n",
              "          document.querySelector('#df-248083bb-8e2e-4085-9bb5-311c8014a583 button.colab-df-convert');\n",
              "        buttonEl.style.display =\n",
              "          google.colab.kernel.accessAllowed ? 'block' : 'none';\n",
              "\n",
              "        async function convertToInteractive(key) {\n",
              "          const element = document.querySelector('#df-248083bb-8e2e-4085-9bb5-311c8014a583');\n",
              "          const dataTable =\n",
              "            await google.colab.kernel.invokeFunction('convertToInteractive',\n",
              "                                                     [key], {});\n",
              "          if (!dataTable) return;\n",
              "\n",
              "          const docLinkHtml = 'Like what you see? Visit the ' +\n",
              "            '<a target=\"_blank\" href=https://colab.research.google.com/notebooks/data_table.ipynb>data table notebook</a>'\n",
              "            + ' to learn more about interactive tables.';\n",
              "          element.innerHTML = '';\n",
              "          dataTable['output_type'] = 'display_data';\n",
              "          await google.colab.output.renderOutput(dataTable, element);\n",
              "          const docLink = document.createElement('div');\n",
              "          docLink.innerHTML = docLinkHtml;\n",
              "          element.appendChild(docLink);\n",
              "        }\n",
              "      </script>\n",
              "    </div>\n",
              "  </div>\n",
              "  "
            ]
          },
          "metadata": {},
          "execution_count": 12
        }
      ]
    },
    {
      "cell_type": "code",
      "source": [
        "data.describe()"
      ],
      "metadata": {
        "colab": {
          "base_uri": "https://localhost:8080/",
          "height": 364
        },
        "id": "v6zkbfeRaO9C",
        "outputId": "dfa11baa-a499-40e7-d0c9-2543d03d6fe7"
      },
      "execution_count": 13,
      "outputs": [
        {
          "output_type": "execute_result",
          "data": {
            "text/plain": [
              "        device_type   request_url      user_loc     byte_sent  vod_encoding  \\\n",
              "count  1.268967e+06  1.577063e+06  1.577063e+06  1.577063e+06  1.571865e+06   \n",
              "mean   1.092534e+00  4.765674e+07  1.044015e+03  2.063677e+04  1.479451e+03   \n",
              "std    8.446044e+00  2.793300e+07  1.650190e+03  2.650773e+04  9.672785e+02   \n",
              "min    0.000000e+00  9.350000e+02  0.000000e+00  1.269841e+00  0.000000e+00   \n",
              "25%    0.000000e+00  1.523008e+07  0.000000e+00  5.359683e+02  4.410000e+02   \n",
              "50%    0.000000e+00  5.427573e+07  2.430000e+02  1.585206e+03  1.494000e+03   \n",
              "75%    0.000000e+00  7.396508e+07  1.518000e+03  3.641212e+04  2.553000e+03   \n",
              "max    3.500000e+02  7.956136e+07  1.312800e+04  2.130867e+05  3.069000e+03   \n",
              "\n",
              "       time_to_serve        maxage    session_id        user_id       host_id  \\\n",
              "count   1.577063e+06  1.567680e+06  1.577063e+06  144863.000000  1.577063e+06   \n",
              "mean    1.973389e-01  3.143146e+07  5.601214e+05    9538.189848  8.368652e+00   \n",
              "std     1.919671e+00  1.812491e+06  3.559288e+05    6527.957563  3.982977e+00   \n",
              "min     7.200000e-05  7.200000e+03  4.120000e+02     212.000000  4.000000e+00   \n",
              "25%     1.718000e-03  3.153600e+07  1.857080e+05    5409.000000  4.000000e+00   \n",
              "50%     1.016000e-02  3.153600e+07  5.918790e+05    8831.000000  1.200000e+01   \n",
              "75%     3.853100e-02  3.153600e+07  9.370840e+05   11491.000000  1.200000e+01   \n",
              "max     6.162042e+02  3.153600e+07  1.070771e+06   27921.000000  1.200000e+01   \n",
              "\n",
              "             vod_id    devicebrand    statuscode    user_agent  request_header  \n",
              "count  1.571865e+06  159026.000000  1.577063e+06  1.268967e+06   101359.000000  \n",
              "mean   1.686879e+03       1.121527  2.027230e+02  1.091136e+01        1.802573  \n",
              "std    1.089539e+03       1.818515  3.086349e+00  3.045997e+00        2.861994  \n",
              "min    0.000000e+00       0.000000  2.000000e+02  1.000000e+00        0.000000  \n",
              "25%    5.040000e+02       0.000000  2.000000e+02  1.200000e+01        1.000000  \n",
              "50%    1.637000e+03       0.000000  2.000000e+02  1.200000e+01        1.000000  \n",
              "75%    2.834000e+03       4.000000  2.060000e+02  1.200000e+01        1.000000  \n",
              "max    3.476000e+03       6.000000  5.030000e+02  2.600000e+01       33.000000  "
            ],
            "text/html": [
              "\n",
              "  <div id=\"df-286a0a86-a505-42a4-bcb2-d33d0908832e\">\n",
              "    <div class=\"colab-df-container\">\n",
              "      <div>\n",
              "<style scoped>\n",
              "    .dataframe tbody tr th:only-of-type {\n",
              "        vertical-align: middle;\n",
              "    }\n",
              "\n",
              "    .dataframe tbody tr th {\n",
              "        vertical-align: top;\n",
              "    }\n",
              "\n",
              "    .dataframe thead th {\n",
              "        text-align: right;\n",
              "    }\n",
              "</style>\n",
              "<table border=\"1\" class=\"dataframe\">\n",
              "  <thead>\n",
              "    <tr style=\"text-align: right;\">\n",
              "      <th></th>\n",
              "      <th>device_type</th>\n",
              "      <th>request_url</th>\n",
              "      <th>user_loc</th>\n",
              "      <th>byte_sent</th>\n",
              "      <th>vod_encoding</th>\n",
              "      <th>time_to_serve</th>\n",
              "      <th>maxage</th>\n",
              "      <th>session_id</th>\n",
              "      <th>user_id</th>\n",
              "      <th>host_id</th>\n",
              "      <th>vod_id</th>\n",
              "      <th>devicebrand</th>\n",
              "      <th>statuscode</th>\n",
              "      <th>user_agent</th>\n",
              "      <th>request_header</th>\n",
              "    </tr>\n",
              "  </thead>\n",
              "  <tbody>\n",
              "    <tr>\n",
              "      <th>count</th>\n",
              "      <td>1.268967e+06</td>\n",
              "      <td>1.577063e+06</td>\n",
              "      <td>1.577063e+06</td>\n",
              "      <td>1.577063e+06</td>\n",
              "      <td>1.571865e+06</td>\n",
              "      <td>1.577063e+06</td>\n",
              "      <td>1.567680e+06</td>\n",
              "      <td>1.577063e+06</td>\n",
              "      <td>144863.000000</td>\n",
              "      <td>1.577063e+06</td>\n",
              "      <td>1.571865e+06</td>\n",
              "      <td>159026.000000</td>\n",
              "      <td>1.577063e+06</td>\n",
              "      <td>1.268967e+06</td>\n",
              "      <td>101359.000000</td>\n",
              "    </tr>\n",
              "    <tr>\n",
              "      <th>mean</th>\n",
              "      <td>1.092534e+00</td>\n",
              "      <td>4.765674e+07</td>\n",
              "      <td>1.044015e+03</td>\n",
              "      <td>2.063677e+04</td>\n",
              "      <td>1.479451e+03</td>\n",
              "      <td>1.973389e-01</td>\n",
              "      <td>3.143146e+07</td>\n",
              "      <td>5.601214e+05</td>\n",
              "      <td>9538.189848</td>\n",
              "      <td>8.368652e+00</td>\n",
              "      <td>1.686879e+03</td>\n",
              "      <td>1.121527</td>\n",
              "      <td>2.027230e+02</td>\n",
              "      <td>1.091136e+01</td>\n",
              "      <td>1.802573</td>\n",
              "    </tr>\n",
              "    <tr>\n",
              "      <th>std</th>\n",
              "      <td>8.446044e+00</td>\n",
              "      <td>2.793300e+07</td>\n",
              "      <td>1.650190e+03</td>\n",
              "      <td>2.650773e+04</td>\n",
              "      <td>9.672785e+02</td>\n",
              "      <td>1.919671e+00</td>\n",
              "      <td>1.812491e+06</td>\n",
              "      <td>3.559288e+05</td>\n",
              "      <td>6527.957563</td>\n",
              "      <td>3.982977e+00</td>\n",
              "      <td>1.089539e+03</td>\n",
              "      <td>1.818515</td>\n",
              "      <td>3.086349e+00</td>\n",
              "      <td>3.045997e+00</td>\n",
              "      <td>2.861994</td>\n",
              "    </tr>\n",
              "    <tr>\n",
              "      <th>min</th>\n",
              "      <td>0.000000e+00</td>\n",
              "      <td>9.350000e+02</td>\n",
              "      <td>0.000000e+00</td>\n",
              "      <td>1.269841e+00</td>\n",
              "      <td>0.000000e+00</td>\n",
              "      <td>7.200000e-05</td>\n",
              "      <td>7.200000e+03</td>\n",
              "      <td>4.120000e+02</td>\n",
              "      <td>212.000000</td>\n",
              "      <td>4.000000e+00</td>\n",
              "      <td>0.000000e+00</td>\n",
              "      <td>0.000000</td>\n",
              "      <td>2.000000e+02</td>\n",
              "      <td>1.000000e+00</td>\n",
              "      <td>0.000000</td>\n",
              "    </tr>\n",
              "    <tr>\n",
              "      <th>25%</th>\n",
              "      <td>0.000000e+00</td>\n",
              "      <td>1.523008e+07</td>\n",
              "      <td>0.000000e+00</td>\n",
              "      <td>5.359683e+02</td>\n",
              "      <td>4.410000e+02</td>\n",
              "      <td>1.718000e-03</td>\n",
              "      <td>3.153600e+07</td>\n",
              "      <td>1.857080e+05</td>\n",
              "      <td>5409.000000</td>\n",
              "      <td>4.000000e+00</td>\n",
              "      <td>5.040000e+02</td>\n",
              "      <td>0.000000</td>\n",
              "      <td>2.000000e+02</td>\n",
              "      <td>1.200000e+01</td>\n",
              "      <td>1.000000</td>\n",
              "    </tr>\n",
              "    <tr>\n",
              "      <th>50%</th>\n",
              "      <td>0.000000e+00</td>\n",
              "      <td>5.427573e+07</td>\n",
              "      <td>2.430000e+02</td>\n",
              "      <td>1.585206e+03</td>\n",
              "      <td>1.494000e+03</td>\n",
              "      <td>1.016000e-02</td>\n",
              "      <td>3.153600e+07</td>\n",
              "      <td>5.918790e+05</td>\n",
              "      <td>8831.000000</td>\n",
              "      <td>1.200000e+01</td>\n",
              "      <td>1.637000e+03</td>\n",
              "      <td>0.000000</td>\n",
              "      <td>2.000000e+02</td>\n",
              "      <td>1.200000e+01</td>\n",
              "      <td>1.000000</td>\n",
              "    </tr>\n",
              "    <tr>\n",
              "      <th>75%</th>\n",
              "      <td>0.000000e+00</td>\n",
              "      <td>7.396508e+07</td>\n",
              "      <td>1.518000e+03</td>\n",
              "      <td>3.641212e+04</td>\n",
              "      <td>2.553000e+03</td>\n",
              "      <td>3.853100e-02</td>\n",
              "      <td>3.153600e+07</td>\n",
              "      <td>9.370840e+05</td>\n",
              "      <td>11491.000000</td>\n",
              "      <td>1.200000e+01</td>\n",
              "      <td>2.834000e+03</td>\n",
              "      <td>4.000000</td>\n",
              "      <td>2.060000e+02</td>\n",
              "      <td>1.200000e+01</td>\n",
              "      <td>1.000000</td>\n",
              "    </tr>\n",
              "    <tr>\n",
              "      <th>max</th>\n",
              "      <td>3.500000e+02</td>\n",
              "      <td>7.956136e+07</td>\n",
              "      <td>1.312800e+04</td>\n",
              "      <td>2.130867e+05</td>\n",
              "      <td>3.069000e+03</td>\n",
              "      <td>6.162042e+02</td>\n",
              "      <td>3.153600e+07</td>\n",
              "      <td>1.070771e+06</td>\n",
              "      <td>27921.000000</td>\n",
              "      <td>1.200000e+01</td>\n",
              "      <td>3.476000e+03</td>\n",
              "      <td>6.000000</td>\n",
              "      <td>5.030000e+02</td>\n",
              "      <td>2.600000e+01</td>\n",
              "      <td>33.000000</td>\n",
              "    </tr>\n",
              "  </tbody>\n",
              "</table>\n",
              "</div>\n",
              "      <button class=\"colab-df-convert\" onclick=\"convertToInteractive('df-286a0a86-a505-42a4-bcb2-d33d0908832e')\"\n",
              "              title=\"Convert this dataframe to an interactive table.\"\n",
              "              style=\"display:none;\">\n",
              "        \n",
              "  <svg xmlns=\"http://www.w3.org/2000/svg\" height=\"24px\"viewBox=\"0 0 24 24\"\n",
              "       width=\"24px\">\n",
              "    <path d=\"M0 0h24v24H0V0z\" fill=\"none\"/>\n",
              "    <path d=\"M18.56 5.44l.94 2.06.94-2.06 2.06-.94-2.06-.94-.94-2.06-.94 2.06-2.06.94zm-11 1L8.5 8.5l.94-2.06 2.06-.94-2.06-.94L8.5 2.5l-.94 2.06-2.06.94zm10 10l.94 2.06.94-2.06 2.06-.94-2.06-.94-.94-2.06-.94 2.06-2.06.94z\"/><path d=\"M17.41 7.96l-1.37-1.37c-.4-.4-.92-.59-1.43-.59-.52 0-1.04.2-1.43.59L10.3 9.45l-7.72 7.72c-.78.78-.78 2.05 0 2.83L4 21.41c.39.39.9.59 1.41.59.51 0 1.02-.2 1.41-.59l7.78-7.78 2.81-2.81c.8-.78.8-2.07 0-2.86zM5.41 20L4 18.59l7.72-7.72 1.47 1.35L5.41 20z\"/>\n",
              "  </svg>\n",
              "      </button>\n",
              "      \n",
              "  <style>\n",
              "    .colab-df-container {\n",
              "      display:flex;\n",
              "      flex-wrap:wrap;\n",
              "      gap: 12px;\n",
              "    }\n",
              "\n",
              "    .colab-df-convert {\n",
              "      background-color: #E8F0FE;\n",
              "      border: none;\n",
              "      border-radius: 50%;\n",
              "      cursor: pointer;\n",
              "      display: none;\n",
              "      fill: #1967D2;\n",
              "      height: 32px;\n",
              "      padding: 0 0 0 0;\n",
              "      width: 32px;\n",
              "    }\n",
              "\n",
              "    .colab-df-convert:hover {\n",
              "      background-color: #E2EBFA;\n",
              "      box-shadow: 0px 1px 2px rgba(60, 64, 67, 0.3), 0px 1px 3px 1px rgba(60, 64, 67, 0.15);\n",
              "      fill: #174EA6;\n",
              "    }\n",
              "\n",
              "    [theme=dark] .colab-df-convert {\n",
              "      background-color: #3B4455;\n",
              "      fill: #D2E3FC;\n",
              "    }\n",
              "\n",
              "    [theme=dark] .colab-df-convert:hover {\n",
              "      background-color: #434B5C;\n",
              "      box-shadow: 0px 1px 3px 1px rgba(0, 0, 0, 0.15);\n",
              "      filter: drop-shadow(0px 1px 2px rgba(0, 0, 0, 0.3));\n",
              "      fill: #FFFFFF;\n",
              "    }\n",
              "  </style>\n",
              "\n",
              "      <script>\n",
              "        const buttonEl =\n",
              "          document.querySelector('#df-286a0a86-a505-42a4-bcb2-d33d0908832e button.colab-df-convert');\n",
              "        buttonEl.style.display =\n",
              "          google.colab.kernel.accessAllowed ? 'block' : 'none';\n",
              "\n",
              "        async function convertToInteractive(key) {\n",
              "          const element = document.querySelector('#df-286a0a86-a505-42a4-bcb2-d33d0908832e');\n",
              "          const dataTable =\n",
              "            await google.colab.kernel.invokeFunction('convertToInteractive',\n",
              "                                                     [key], {});\n",
              "          if (!dataTable) return;\n",
              "\n",
              "          const docLinkHtml = 'Like what you see? Visit the ' +\n",
              "            '<a target=\"_blank\" href=https://colab.research.google.com/notebooks/data_table.ipynb>data table notebook</a>'\n",
              "            + ' to learn more about interactive tables.';\n",
              "          element.innerHTML = '';\n",
              "          dataTable['output_type'] = 'display_data';\n",
              "          await google.colab.output.renderOutput(dataTable, element);\n",
              "          const docLink = document.createElement('div');\n",
              "          docLink.innerHTML = docLinkHtml;\n",
              "          element.appendChild(docLink);\n",
              "        }\n",
              "      </script>\n",
              "    </div>\n",
              "  </div>\n",
              "  "
            ]
          },
          "metadata": {},
          "execution_count": 13
        }
      ]
    },
    {
      "cell_type": "code",
      "source": [
        "data.count()"
      ],
      "metadata": {
        "colab": {
          "base_uri": "https://localhost:8080/"
        },
        "id": "SRfPZbIHaY0D",
        "outputId": "35937c03-dc7a-4834-d9fc-0200029d7093"
      },
      "execution_count": 14,
      "outputs": [
        {
          "output_type": "execute_result",
          "data": {
            "text/plain": [
              "device_type        1268967\n",
              "request_url        1577063\n",
              "request_method     1577063\n",
              "time_received      1577063\n",
              "user_loc           1577063\n",
              "byte_sent          1577063\n",
              "vod_encoding       1571865\n",
              "time_to_serve      1577063\n",
              "content_type       1577063\n",
              "maxage             1567680\n",
              "session_id         1577063\n",
              "cachecontrol       1577063\n",
              "method             1577063\n",
              "response_status    1577063\n",
              "user_id             144863\n",
              "host_id            1577063\n",
              "vod_id             1571865\n",
              "devicebrand         159026\n",
              "statuscode         1577063\n",
              "user_agent         1268967\n",
              "request_header      101359\n",
              "dtype: int64"
            ]
          },
          "metadata": {},
          "execution_count": 14
        }
      ]
    },
    {
      "cell_type": "code",
      "source": [
        "data = data.dropna()"
      ],
      "metadata": {
        "id": "u3Nn5qoxeM8o"
      },
      "execution_count": 15,
      "outputs": []
    },
    {
      "cell_type": "code",
      "source": [
        "data=data.drop_duplicates(subset=None, keep=\"first\", inplace=False)"
      ],
      "metadata": {
        "id": "6qxXhRNvfj5n"
      },
      "execution_count": 16,
      "outputs": []
    },
    {
      "cell_type": "code",
      "source": [
        "data.head()"
      ],
      "metadata": {
        "colab": {
          "base_uri": "https://localhost:8080/",
          "height": 473
        },
        "id": "6oau1iNvOnBX",
        "outputId": "52f01a48-4927-4a8b-eb06-555797b2b98c"
      },
      "execution_count": 17,
      "outputs": [
        {
          "output_type": "execute_result",
          "data": {
            "text/plain": [
              "       device_type  request_url request_method              time_received  \\\n",
              "14124          8.0     75685609       HTTP/1.1  2021-11-14 07:57:37+00:00   \n",
              "14131          8.0     75679092       HTTP/1.1  2021-11-14 07:51:58+00:00   \n",
              "14134          8.0     75678513       HTTP/1.1  2021-11-14 07:51:25+00:00   \n",
              "14141          8.0     75682096       HTTP/1.1  2021-11-14 07:54:49+00:00   \n",
              "14143          8.0     75688518       HTTP/1.1  2021-11-14 07:59:53+00:00   \n",
              "\n",
              "       user_loc     byte_sent  vod_encoding  time_to_serve content_type  \\\n",
              "14124         1  78542.015873        2740.0       0.382984    video/mp4   \n",
              "14131         1  70033.523810        2740.0       0.282346    video/mp4   \n",
              "14134         1  68252.825397        2740.0       0.241322    video/mp4   \n",
              "14141         1  67454.714286        2740.0       0.210590    video/mp4   \n",
              "14143         1  62781.793651        2740.0       0.033443    video/mp4   \n",
              "\n",
              "           maxage  ...                    cachecontrol method response_status  \\\n",
              "14124  31536000.0  ...  Cache-Control:max-age=31536000    GET        tcp_miss   \n",
              "14131  31536000.0  ...  Cache-Control:max-age=31536000    GET        tcp_miss   \n",
              "14134  31536000.0  ...  Cache-Control:max-age=31536000    GET        tcp_miss   \n",
              "14141  31536000.0  ...  Cache-Control:max-age=31536000    GET        tcp_miss   \n",
              "14143  31536000.0  ...  Cache-Control:max-age=31536000    GET        tcp_miss   \n",
              "\n",
              "       user_id  host_id  vod_id  devicebrand  statuscode  user_agent  \\\n",
              "14124  11491.0       12  3068.0          4.0         200         8.0   \n",
              "14131  11491.0       12  3068.0          4.0         200         8.0   \n",
              "14134  11491.0       12  3068.0          4.0         200         8.0   \n",
              "14141  11491.0       12  3068.0          4.0         200         8.0   \n",
              "14143  11491.0       12  3068.0          4.0         200         8.0   \n",
              "\n",
              "       request_header  \n",
              "14124             0.0  \n",
              "14131             0.0  \n",
              "14134             0.0  \n",
              "14141             0.0  \n",
              "14143             0.0  \n",
              "\n",
              "[5 rows x 21 columns]"
            ],
            "text/html": [
              "\n",
              "  <div id=\"df-90db7ba7-a365-4473-b004-7fabbbcf2375\">\n",
              "    <div class=\"colab-df-container\">\n",
              "      <div>\n",
              "<style scoped>\n",
              "    .dataframe tbody tr th:only-of-type {\n",
              "        vertical-align: middle;\n",
              "    }\n",
              "\n",
              "    .dataframe tbody tr th {\n",
              "        vertical-align: top;\n",
              "    }\n",
              "\n",
              "    .dataframe thead th {\n",
              "        text-align: right;\n",
              "    }\n",
              "</style>\n",
              "<table border=\"1\" class=\"dataframe\">\n",
              "  <thead>\n",
              "    <tr style=\"text-align: right;\">\n",
              "      <th></th>\n",
              "      <th>device_type</th>\n",
              "      <th>request_url</th>\n",
              "      <th>request_method</th>\n",
              "      <th>time_received</th>\n",
              "      <th>user_loc</th>\n",
              "      <th>byte_sent</th>\n",
              "      <th>vod_encoding</th>\n",
              "      <th>time_to_serve</th>\n",
              "      <th>content_type</th>\n",
              "      <th>maxage</th>\n",
              "      <th>...</th>\n",
              "      <th>cachecontrol</th>\n",
              "      <th>method</th>\n",
              "      <th>response_status</th>\n",
              "      <th>user_id</th>\n",
              "      <th>host_id</th>\n",
              "      <th>vod_id</th>\n",
              "      <th>devicebrand</th>\n",
              "      <th>statuscode</th>\n",
              "      <th>user_agent</th>\n",
              "      <th>request_header</th>\n",
              "    </tr>\n",
              "  </thead>\n",
              "  <tbody>\n",
              "    <tr>\n",
              "      <th>14124</th>\n",
              "      <td>8.0</td>\n",
              "      <td>75685609</td>\n",
              "      <td>HTTP/1.1</td>\n",
              "      <td>2021-11-14 07:57:37+00:00</td>\n",
              "      <td>1</td>\n",
              "      <td>78542.015873</td>\n",
              "      <td>2740.0</td>\n",
              "      <td>0.382984</td>\n",
              "      <td>video/mp4</td>\n",
              "      <td>31536000.0</td>\n",
              "      <td>...</td>\n",
              "      <td>Cache-Control:max-age=31536000</td>\n",
              "      <td>GET</td>\n",
              "      <td>tcp_miss</td>\n",
              "      <td>11491.0</td>\n",
              "      <td>12</td>\n",
              "      <td>3068.0</td>\n",
              "      <td>4.0</td>\n",
              "      <td>200</td>\n",
              "      <td>8.0</td>\n",
              "      <td>0.0</td>\n",
              "    </tr>\n",
              "    <tr>\n",
              "      <th>14131</th>\n",
              "      <td>8.0</td>\n",
              "      <td>75679092</td>\n",
              "      <td>HTTP/1.1</td>\n",
              "      <td>2021-11-14 07:51:58+00:00</td>\n",
              "      <td>1</td>\n",
              "      <td>70033.523810</td>\n",
              "      <td>2740.0</td>\n",
              "      <td>0.282346</td>\n",
              "      <td>video/mp4</td>\n",
              "      <td>31536000.0</td>\n",
              "      <td>...</td>\n",
              "      <td>Cache-Control:max-age=31536000</td>\n",
              "      <td>GET</td>\n",
              "      <td>tcp_miss</td>\n",
              "      <td>11491.0</td>\n",
              "      <td>12</td>\n",
              "      <td>3068.0</td>\n",
              "      <td>4.0</td>\n",
              "      <td>200</td>\n",
              "      <td>8.0</td>\n",
              "      <td>0.0</td>\n",
              "    </tr>\n",
              "    <tr>\n",
              "      <th>14134</th>\n",
              "      <td>8.0</td>\n",
              "      <td>75678513</td>\n",
              "      <td>HTTP/1.1</td>\n",
              "      <td>2021-11-14 07:51:25+00:00</td>\n",
              "      <td>1</td>\n",
              "      <td>68252.825397</td>\n",
              "      <td>2740.0</td>\n",
              "      <td>0.241322</td>\n",
              "      <td>video/mp4</td>\n",
              "      <td>31536000.0</td>\n",
              "      <td>...</td>\n",
              "      <td>Cache-Control:max-age=31536000</td>\n",
              "      <td>GET</td>\n",
              "      <td>tcp_miss</td>\n",
              "      <td>11491.0</td>\n",
              "      <td>12</td>\n",
              "      <td>3068.0</td>\n",
              "      <td>4.0</td>\n",
              "      <td>200</td>\n",
              "      <td>8.0</td>\n",
              "      <td>0.0</td>\n",
              "    </tr>\n",
              "    <tr>\n",
              "      <th>14141</th>\n",
              "      <td>8.0</td>\n",
              "      <td>75682096</td>\n",
              "      <td>HTTP/1.1</td>\n",
              "      <td>2021-11-14 07:54:49+00:00</td>\n",
              "      <td>1</td>\n",
              "      <td>67454.714286</td>\n",
              "      <td>2740.0</td>\n",
              "      <td>0.210590</td>\n",
              "      <td>video/mp4</td>\n",
              "      <td>31536000.0</td>\n",
              "      <td>...</td>\n",
              "      <td>Cache-Control:max-age=31536000</td>\n",
              "      <td>GET</td>\n",
              "      <td>tcp_miss</td>\n",
              "      <td>11491.0</td>\n",
              "      <td>12</td>\n",
              "      <td>3068.0</td>\n",
              "      <td>4.0</td>\n",
              "      <td>200</td>\n",
              "      <td>8.0</td>\n",
              "      <td>0.0</td>\n",
              "    </tr>\n",
              "    <tr>\n",
              "      <th>14143</th>\n",
              "      <td>8.0</td>\n",
              "      <td>75688518</td>\n",
              "      <td>HTTP/1.1</td>\n",
              "      <td>2021-11-14 07:59:53+00:00</td>\n",
              "      <td>1</td>\n",
              "      <td>62781.793651</td>\n",
              "      <td>2740.0</td>\n",
              "      <td>0.033443</td>\n",
              "      <td>video/mp4</td>\n",
              "      <td>31536000.0</td>\n",
              "      <td>...</td>\n",
              "      <td>Cache-Control:max-age=31536000</td>\n",
              "      <td>GET</td>\n",
              "      <td>tcp_miss</td>\n",
              "      <td>11491.0</td>\n",
              "      <td>12</td>\n",
              "      <td>3068.0</td>\n",
              "      <td>4.0</td>\n",
              "      <td>200</td>\n",
              "      <td>8.0</td>\n",
              "      <td>0.0</td>\n",
              "    </tr>\n",
              "  </tbody>\n",
              "</table>\n",
              "<p>5 rows × 21 columns</p>\n",
              "</div>\n",
              "      <button class=\"colab-df-convert\" onclick=\"convertToInteractive('df-90db7ba7-a365-4473-b004-7fabbbcf2375')\"\n",
              "              title=\"Convert this dataframe to an interactive table.\"\n",
              "              style=\"display:none;\">\n",
              "        \n",
              "  <svg xmlns=\"http://www.w3.org/2000/svg\" height=\"24px\"viewBox=\"0 0 24 24\"\n",
              "       width=\"24px\">\n",
              "    <path d=\"M0 0h24v24H0V0z\" fill=\"none\"/>\n",
              "    <path d=\"M18.56 5.44l.94 2.06.94-2.06 2.06-.94-2.06-.94-.94-2.06-.94 2.06-2.06.94zm-11 1L8.5 8.5l.94-2.06 2.06-.94-2.06-.94L8.5 2.5l-.94 2.06-2.06.94zm10 10l.94 2.06.94-2.06 2.06-.94-2.06-.94-.94-2.06-.94 2.06-2.06.94z\"/><path d=\"M17.41 7.96l-1.37-1.37c-.4-.4-.92-.59-1.43-.59-.52 0-1.04.2-1.43.59L10.3 9.45l-7.72 7.72c-.78.78-.78 2.05 0 2.83L4 21.41c.39.39.9.59 1.41.59.51 0 1.02-.2 1.41-.59l7.78-7.78 2.81-2.81c.8-.78.8-2.07 0-2.86zM5.41 20L4 18.59l7.72-7.72 1.47 1.35L5.41 20z\"/>\n",
              "  </svg>\n",
              "      </button>\n",
              "      \n",
              "  <style>\n",
              "    .colab-df-container {\n",
              "      display:flex;\n",
              "      flex-wrap:wrap;\n",
              "      gap: 12px;\n",
              "    }\n",
              "\n",
              "    .colab-df-convert {\n",
              "      background-color: #E8F0FE;\n",
              "      border: none;\n",
              "      border-radius: 50%;\n",
              "      cursor: pointer;\n",
              "      display: none;\n",
              "      fill: #1967D2;\n",
              "      height: 32px;\n",
              "      padding: 0 0 0 0;\n",
              "      width: 32px;\n",
              "    }\n",
              "\n",
              "    .colab-df-convert:hover {\n",
              "      background-color: #E2EBFA;\n",
              "      box-shadow: 0px 1px 2px rgba(60, 64, 67, 0.3), 0px 1px 3px 1px rgba(60, 64, 67, 0.15);\n",
              "      fill: #174EA6;\n",
              "    }\n",
              "\n",
              "    [theme=dark] .colab-df-convert {\n",
              "      background-color: #3B4455;\n",
              "      fill: #D2E3FC;\n",
              "    }\n",
              "\n",
              "    [theme=dark] .colab-df-convert:hover {\n",
              "      background-color: #434B5C;\n",
              "      box-shadow: 0px 1px 3px 1px rgba(0, 0, 0, 0.15);\n",
              "      filter: drop-shadow(0px 1px 2px rgba(0, 0, 0, 0.3));\n",
              "      fill: #FFFFFF;\n",
              "    }\n",
              "  </style>\n",
              "\n",
              "      <script>\n",
              "        const buttonEl =\n",
              "          document.querySelector('#df-90db7ba7-a365-4473-b004-7fabbbcf2375 button.colab-df-convert');\n",
              "        buttonEl.style.display =\n",
              "          google.colab.kernel.accessAllowed ? 'block' : 'none';\n",
              "\n",
              "        async function convertToInteractive(key) {\n",
              "          const element = document.querySelector('#df-90db7ba7-a365-4473-b004-7fabbbcf2375');\n",
              "          const dataTable =\n",
              "            await google.colab.kernel.invokeFunction('convertToInteractive',\n",
              "                                                     [key], {});\n",
              "          if (!dataTable) return;\n",
              "\n",
              "          const docLinkHtml = 'Like what you see? Visit the ' +\n",
              "            '<a target=\"_blank\" href=https://colab.research.google.com/notebooks/data_table.ipynb>data table notebook</a>'\n",
              "            + ' to learn more about interactive tables.';\n",
              "          element.innerHTML = '';\n",
              "          dataTable['output_type'] = 'display_data';\n",
              "          await google.colab.output.renderOutput(dataTable, element);\n",
              "          const docLink = document.createElement('div');\n",
              "          docLink.innerHTML = docLinkHtml;\n",
              "          element.appendChild(docLink);\n",
              "        }\n",
              "      </script>\n",
              "    </div>\n",
              "  </div>\n",
              "  "
            ]
          },
          "metadata": {},
          "execution_count": 17
        }
      ]
    },
    {
      "cell_type": "code",
      "source": [
        "\n",
        "data.hist(figsize=(15, 10))"
      ],
      "metadata": {
        "colab": {
          "base_uri": "https://localhost:8080/",
          "height": 902
        },
        "id": "YHA7ONVNRjyp",
        "outputId": "96a877e5-1960-4bdb-be6c-627b816b3483"
      },
      "execution_count": 18,
      "outputs": [
        {
          "output_type": "execute_result",
          "data": {
            "text/plain": [
              "array([[<matplotlib.axes._subplots.AxesSubplot object at 0x7fedb667b450>,\n",
              "        <matplotlib.axes._subplots.AxesSubplot object at 0x7fedb54409d0>,\n",
              "        <matplotlib.axes._subplots.AxesSubplot object at 0x7fedb53ecb10>,\n",
              "        <matplotlib.axes._subplots.AxesSubplot object at 0x7fedb53bb610>],\n",
              "       [<matplotlib.axes._subplots.AxesSubplot object at 0x7fedb5371c10>,\n",
              "        <matplotlib.axes._subplots.AxesSubplot object at 0x7fedb5333250>,\n",
              "        <matplotlib.axes._subplots.AxesSubplot object at 0x7fedb52e98d0>,\n",
              "        <matplotlib.axes._subplots.AxesSubplot object at 0x7fedb5320e10>],\n",
              "       [<matplotlib.axes._subplots.AxesSubplot object at 0x7fedb5320e50>,\n",
              "        <matplotlib.axes._subplots.AxesSubplot object at 0x7fedb5262590>,\n",
              "        <matplotlib.axes._subplots.AxesSubplot object at 0x7fedb5468690>,\n",
              "        <matplotlib.axes._subplots.AxesSubplot object at 0x7fedb52aef10>],\n",
              "       [<matplotlib.axes._subplots.AxesSubplot object at 0x7fedb51ba610>,\n",
              "        <matplotlib.axes._subplots.AxesSubplot object at 0x7fedb5170c10>,\n",
              "        <matplotlib.axes._subplots.AxesSubplot object at 0x7fedb5133250>,\n",
              "        <matplotlib.axes._subplots.AxesSubplot object at 0x7fedb50e9850>]],\n",
              "      dtype=object)"
            ]
          },
          "metadata": {},
          "execution_count": 18
        },
        {
          "output_type": "display_data",
          "data": {
            "text/plain": [
              "<Figure size 1080x720 with 16 Axes>"
            ],
            "image/png": "[encoded data removed]"
          },
          "metadata": {
            "needs_background": "light"
          }
        }
      ]
    },
    {
      "cell_type": "code",
      "source": [
        "x = data['byte_sent']\n",
        "y = data['time_to_serve']\n",
        "\n",
        "plt.plot(x, y, 'o')\n",
        "plt.xlabel('bytes sent'), plt.ylabel('Time to serve')\n",
        "plt.show()"
      ],
      "metadata": {
        "colab": {
          "base_uri": "https://localhost:8080/",
          "height": 279
        },
        "id": "Jg47KfHnP5Ex",
        "outputId": "96b62949-c9bf-4d00-ccc4-faf3d09fb5d7"
      },
      "execution_count": 19,
      "outputs": [
        {
          "output_type": "display_data",
          "data": {
            "text/plain": [
              "<Figure size 432x288 with 1 Axes>"
            ],
            "image/png": "[encoded data removed]"
          },
          "metadata": {
            "needs_background": "light"
          }
        }
      ]
    },
    {
      "cell_type": "code",
      "source": [
        "tcp_miss = data.loc[data['response_status'] == 'tcp_miss']"
      ],
      "metadata": {
        "id": "PzGoy8GYM76C"
      },
      "execution_count": 20,
      "outputs": []
    },
    {
      "cell_type": "code",
      "source": [
        "tcp_hit = data.loc[data['response_status'] == 'tcp_hit']"
      ],
      "metadata": {
        "id": "bUc-d0vYPWyh"
      },
      "execution_count": 21,
      "outputs": []
    },
    {
      "cell_type": "code",
      "source": [
        "sns.scatterplot(x=\"byte_sent\", y=\"time_to_serve\", hue=\"response_status\",data = data);"
      ],
      "metadata": {
        "colab": {
          "base_uri": "https://localhost:8080/",
          "height": 280
        },
        "id": "s-zt0-tCZom8",
        "outputId": "72481fc8-5c0f-4236-fbbb-c416be9383d3"
      },
      "execution_count": 22,
      "outputs": [
        {
          "output_type": "display_data",
          "data": {
            "text/plain": [
              "<Figure size 432x288 with 1 Axes>"
            ],
            "image/png": "[encoded data removed]"
          },
          "metadata": {
            "needs_background": "light"
          }
        }
      ]
    },
    {
      "cell_type": "code",
      "source": [
        "sns.relplot(x=\"byte_sent\", y=\"time_to_serve\", hue=\"response_status\", style=\"response_status\",\n",
        "            kind=\"line\", data=data);"
      ],
      "metadata": {
        "id": "ux2oyaCcevAa",
        "colab": {
          "base_uri": "https://localhost:8080/",
          "height": 370
        },
        "outputId": "1eed6ba0-ad41-4be7-a071-9c4408ed5ec2"
      },
      "execution_count": 23,
      "outputs": [
        {
          "output_type": "display_data",
          "data": {
            "text/plain": [
              "<Figure size 449x360 with 1 Axes>"
            ],
            "image/png": "[encoded data removed]"
          },
          "metadata": {
            "needs_background": "light"
          }
        }
      ]
    },
    {
      "cell_type": "code",
      "source": [
        "sns.relplot(x=\"byte_sent\", y=\"time_to_serve\", hue=\"response_status\",\n",
        "            col=\"response_status\", data=data);"
      ],
      "metadata": {
        "id": "0Y36W2vwiR1w",
        "colab": {
          "base_uri": "https://localhost:8080/",
          "height": 370
        },
        "outputId": "94383bea-4100-4285-d210-f67d48b5a860"
      },
      "execution_count": 24,
      "outputs": [
        {
          "output_type": "display_data",
          "data": {
            "text/plain": [
              "<Figure size 809x360 with 2 Axes>"
            ],
            "image/png": "[encoded data removed]"
          },
          "metadata": {
            "needs_background": "light"
          }
        }
      ]
    },
    {
      "cell_type": "code",
      "source": [
        "hit_mis = data['response_status']\n",
        "hit_mis.value_counts()"
      ],
      "metadata": {
        "id": "-K9Ub-8-Eoqt",
        "colab": {
          "base_uri": "https://localhost:8080/"
        },
        "outputId": "fd974da2-02d9-4b0e-9f9d-5802d8581de7"
      },
      "execution_count": 25,
      "outputs": [
        {
          "output_type": "execute_result",
          "data": {
            "text/plain": [
              "tcp_miss    75820\n",
              "tcp_hit     11082\n",
              "Name: response_status, dtype: int64"
            ]
          },
          "metadata": {},
          "execution_count": 25
        }
      ]
    },
    {
      "cell_type": "code",
      "source": [
        "tcp_mis = 75820\n",
        "tcp_hit = 11082\n",
        "\n",
        "total = tcp_mis+tcp_hit\n",
        "\n",
        "hit_ratio = tcp_hit/total\n",
        "\n",
        "hit_ratio"
      ],
      "metadata": {
        "colab": {
          "base_uri": "https://localhost:8080/"
        },
        "id": "YV6V1r8lboOy",
        "outputId": "a46d6558-21c6-4450-f348-a3ac36c6d8bf"
      },
      "execution_count": 26,
      "outputs": [
        {
          "output_type": "execute_result",
          "data": {
            "text/plain": [
              "0.12752295689397253"
            ]
          },
          "metadata": {},
          "execution_count": 26
        }
      ]
    },
    {
      "cell_type": "code",
      "source": [
        "ax = sns.boxplot(x=\"response_status\", y=\"byte_sent\", data=data)"
      ],
      "metadata": {
        "colab": {
          "base_uri": "https://localhost:8080/",
          "height": 281
        },
        "id": "vQvsmWNiVlcP",
        "outputId": "43fb32ae-7842-4975-d20b-c956ed36503f"
      },
      "execution_count": 27,
      "outputs": [
        {
          "output_type": "display_data",
          "data": {
            "text/plain": [
              "<Figure size 432x288 with 1 Axes>"
            ],
            "image/png": "[encoded data removed]"
          },
          "metadata": {
            "needs_background": "light"
          }
        }
      ]
    },
    {
      "cell_type": "code",
      "source": [
        "hit_mis.hist()"
      ],
      "metadata": {
        "colab": {
          "base_uri": "https://localhost:8080/",
          "height": 283
        },
        "id": "dQgDQ595UV_f",
        "outputId": "afd926e7-83b6-4218-d34e-2447951302be"
      },
      "execution_count": 28,
      "outputs": [
        {
          "output_type": "execute_result",
          "data": {
            "text/plain": [
              "<matplotlib.axes._subplots.AxesSubplot at 0x7fedb43bde50>"
            ]
          },
          "metadata": {},
          "execution_count": 28
        },
        {
          "output_type": "display_data",
          "data": {
            "text/plain": [
              "<Figure size 432x288 with 1 Axes>"
            ],
            "image/png": "[encoded data removed]"
          },
          "metadata": {
            "needs_background": "light"
          }
        }
      ]
    },
    {
      "cell_type": "code",
      "source": [
        "data[['request_url','user_id']].value_counts()"
      ],
      "metadata": {
        "colab": {
          "base_uri": "https://localhost:8080/"
        },
        "id": "eAOshp8dQp8t",
        "outputId": "35af13c3-70dc-4bc0-e302-435d3fe092cf"
      },
      "execution_count": 29,
      "outputs": [
        {
          "output_type": "execute_result",
          "data": {
            "text/plain": [
              "request_url  user_id\n",
              "53363561     8831.0     551\n",
              "53363570     8831.0     547\n",
              "12585553     8831.0     484\n",
              "12585610     8831.0     484\n",
              "74553592     8831.0     466\n",
              "                       ... \n",
              "55144387     7092.0       1\n",
              "55144388     7092.0       1\n",
              "55144389     7092.0       1\n",
              "55144396     7092.0       1\n",
              "79465226     27903.0      1\n",
              "Length: 70289, dtype: int64"
            ]
          },
          "metadata": {},
          "execution_count": 29
        }
      ]
    },
    {
      "cell_type": "code",
      "source": [
        "data[['request_url','user_id','response_status']].value_counts()"
      ],
      "metadata": {
        "colab": {
          "base_uri": "https://localhost:8080/"
        },
        "id": "Y8UWyvq7Sf47",
        "outputId": "f80f3523-2e3b-4776-ea59-dfd8377f2124"
      },
      "execution_count": 41,
      "outputs": [
        {
          "output_type": "execute_result",
          "data": {
            "text/plain": [
              "request_url  user_id  response_status\n",
              "53289306     8831.0   tcp_hit            428\n",
              "52879843     23904.0  tcp_hit            417\n",
              "74675348     8831.0   tcp_hit            416\n",
              "74675361     8831.0   tcp_hit            416\n",
              "52879850     23904.0  tcp_hit            415\n",
              "                                        ... \n",
              "55123941     7092.0   tcp_miss             1\n",
              "55123947     7092.0   tcp_miss             1\n",
              "55123961     7092.0   tcp_miss             1\n",
              "55123975     7092.0   tcp_miss             1\n",
              "79465226     27903.0  tcp_miss             1\n",
              "Length: 70745, dtype: int64"
            ]
          },
          "metadata": {},
          "execution_count": 41
        }
      ]
    },
    {
      "cell_type": "code",
      "source": [
        "data.groupby('response_status')['user_id'].value_counts()\n"
      ],
      "metadata": {
        "colab": {
          "base_uri": "https://localhost:8080/"
        },
        "id": "5gp1fjOLK63d",
        "outputId": "d79bf30a-6bb1-4ae5-f9c5-21ac1bc625af"
      },
      "execution_count": 52,
      "outputs": [
        {
          "output_type": "execute_result",
          "data": {
            "text/plain": [
              "response_status  user_id\n",
              "tcp_hit          8831.0     5044\n",
              "                 23904.0    1648\n",
              "                 6230.0     1570\n",
              "                 7874.0      875\n",
              "                 27903.0     671\n",
              "                            ... \n",
              "tcp_miss         382.0        12\n",
              "                 212.0         8\n",
              "                 6230.0        6\n",
              "                 10624.0       6\n",
              "                 17398.0       5\n",
              "Name: user_id, Length: 68, dtype: int64"
            ]
          },
          "metadata": {},
          "execution_count": 52
        }
      ]
    },
    {
      "cell_type": "code",
      "source": [
        "data['user_id'].value_counts()"
      ],
      "metadata": {
        "colab": {
          "base_uri": "https://localhost:8080/"
        },
        "id": "SYQIOaNCRzua",
        "outputId": "9a33f5f7-506f-4fa2-c53f-abd2607c61af"
      },
      "execution_count": 31,
      "outputs": [
        {
          "output_type": "execute_result",
          "data": {
            "text/plain": [
              "7092.0     21950\n",
              "11335.0    19836\n",
              "11185.0     9943\n",
              "8831.0      8064\n",
              "17330.0     5874\n",
              "11609.0     4732\n",
              "11491.0     4117\n",
              "27903.0     2135\n",
              "23904.0     1662\n",
              "6230.0      1576\n",
              "2205.0      1495\n",
              "7874.0      1062\n",
              "27343.0      954\n",
              "4616.0       528\n",
              "2944.0       388\n",
              "2530.0       381\n",
              "10624.0      256\n",
              "10049.0      250\n",
              "25776.0      237\n",
              "16367.0      135\n",
              "25148.0      122\n",
              "562.0        108\n",
              "11793.0      107\n",
              "27798.0      103\n",
              "18165.0      101\n",
              "17511.0       85\n",
              "16860.0       76\n",
              "212.0         58\n",
              "7317.0        56\n",
              "12145.0       56\n",
              "25242.0       55\n",
              "6640.0        51\n",
              "2603.0        45\n",
              "23456.0       44\n",
              "1826.0        44\n",
              "382.0         41\n",
              "7353.0        40\n",
              "1210.0        34\n",
              "3467.0        30\n",
              "16843.0       26\n",
              "17398.0       25\n",
              "16241.0       20\n",
              "Name: user_id, dtype: int64"
            ]
          },
          "metadata": {},
          "execution_count": 31
        }
      ]
    },
    {
      "cell_type": "code",
      "source": [
        "data[['user_id','user_agent']].value_counts()"
      ],
      "metadata": {
        "colab": {
          "base_uri": "https://localhost:8080/"
        },
        "id": "UENRAZZNZN6y",
        "outputId": "67a0df46-ea3d-40bb-f5b4-4b33dd616747"
      },
      "execution_count": 32,
      "outputs": [
        {
          "output_type": "execute_result",
          "data": {
            "text/plain": [
              "user_id  user_agent\n",
              "7092.0   2.0           21950\n",
              "11335.0  2.0           19836\n",
              "11185.0  2.0            9943\n",
              "8831.0   2.0            8064\n",
              "17330.0  2.0            5874\n",
              "11609.0  2.0            4732\n",
              "11491.0  8.0            4117\n",
              "27903.0  8.0            2135\n",
              "23904.0  2.0            1662\n",
              "6230.0   8.0            1576\n",
              "2205.0   8.0            1495\n",
              "7874.0   2.0            1062\n",
              "27343.0  8.0             954\n",
              "4616.0   8.0             528\n",
              "2530.0   8.0             381\n",
              "2944.0   2.0             259\n",
              "10624.0  8.0             256\n",
              "10049.0  8.0             250\n",
              "25776.0  2.0             237\n",
              "16367.0  2.0             135\n",
              "2944.0   8.0             129\n",
              "25148.0  8.0             122\n",
              "562.0    8.0             108\n",
              "11793.0  2.0             107\n",
              "27798.0  8.0             103\n",
              "18165.0  2.0             101\n",
              "17511.0  2.0              85\n",
              "16860.0  8.0              76\n",
              "212.0    8.0              58\n",
              "7317.0   2.0              56\n",
              "12145.0  8.0              56\n",
              "25242.0  8.0              55\n",
              "6640.0   8.0              51\n",
              "2603.0   2.0              45\n",
              "1826.0   2.0              44\n",
              "23456.0  2.0              44\n",
              "382.0    8.0              41\n",
              "7353.0   8.0              40\n",
              "1210.0   2.0              34\n",
              "3467.0   2.0              30\n",
              "16843.0  8.0              26\n",
              "17398.0  8.0              25\n",
              "16241.0  8.0              20\n",
              "dtype: int64"
            ]
          },
          "metadata": {},
          "execution_count": 32
        }
      ]
    }
  ]
}