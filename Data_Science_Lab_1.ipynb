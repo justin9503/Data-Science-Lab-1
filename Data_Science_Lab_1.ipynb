{
  "cells": [
    {
      "cell_type": "code",
      "execution_count": null,
      "metadata": {
        "id": "IsIRQlkpfCzJ"
      },
      "outputs": [],
      "source": [
        "import numpy as np\n",
        "import pandas as pd\n",
        "import matplotlib.pyplot as plt\n",
        "import seaborn as sns"
      ]
    },
    {
      "cell_type": "code",
      "execution_count": null,
      "metadata": {
        "colab": {
          "base_uri": "https://localhost:8080/"
        },
        "id": "TwqyqnrgfHD7",
        "outputId": "4288a92c-ba9e-413f-90e8-9ad3972b9d33"
      },
      "outputs": [
        {
          "output_type": "stream",
          "name": "stdout",
          "text": [
            "Drive already mounted at /content/drive; to attempt to forcibly remount, call drive.mount(\"/content/drive\", force_remount=True).\n"
          ]
        }
      ],
      "source": [
        "from google.colab import drive\n",
        "drive.mount('/content/drive')"
      ]
    },
    {
      "cell_type": "code",
      "execution_count": null,
      "metadata": {
        "colab": {
          "base_uri": "https://localhost:8080/",
          "height": 473
        },
        "id": "lgtTD8jgfJXJ",
        "outputId": "32d20efc-9824-4082-922e-bff1d5af3e4f"
      },
      "outputs": [
        {
          "output_type": "execute_result",
          "data": {
            "text/plain": [
              "   device_type  live_tv_id  request_url request_method  \\\n",
              "0          0.0         NaN     73218596       HTTP/1.1   \n",
              "1          0.0         NaN     74962598       HTTP/1.1   \n",
              "2          0.0         NaN     74687485       HTTP/1.1   \n",
              "3          0.0         NaN     73908576       HTTP/1.1   \n",
              "4          0.0         NaN     74687475       HTTP/1.1   \n",
              "\n",
              "               time_received  user_loc     byte_sent  vod_encoding  \\\n",
              "0  2021-11-14 06:00:14+00:00         0   1542.095238          10.0   \n",
              "1  2021-11-14 06:19:57+00:00      1816  70985.984127        1659.0   \n",
              "2  2021-11-14 06:21:14+00:00       944  65501.857143        2673.0   \n",
              "3  2021-11-14 06:21:18+00:00         0  73345.412698        2580.0   \n",
              "4  2021-11-14 06:22:01+00:00       944   1579.349206        2673.0   \n",
              "\n",
              "   time_to_serve content_type  ...                    cachecontrol  method  \\\n",
              "0       0.000274   video/mpeg  ...  Cache-Control:max-age=31536000     GET   \n",
              "1       0.430289    video/mp4  ...  Cache-Control:max-age=31536000     GET   \n",
              "2       2.474124    video/mp4  ...  Cache-Control:max-age=31536000     GET   \n",
              "3       0.380959    video/mp4  ...  Cache-Control:max-age=31536000     GET   \n",
              "4       0.000244   video/mpeg  ...  Cache-Control:max-age=31536000     GET   \n",
              "\n",
              "  response_status user_id host_id  vod_id  devicebrand  statuscode  \\\n",
              "0         tcp_hit     NaN       4  2751.0          NaN         206   \n",
              "1         tcp_hit     NaN       4  3031.0          NaN         206   \n",
              "2         tcp_hit     NaN       4  2978.0          NaN         206   \n",
              "3         tcp_hit     NaN       4  2868.0          NaN         206   \n",
              "4         tcp_hit     NaN       4  2978.0          NaN         206   \n",
              "\n",
              "   user_agent  request_header  \n",
              "0        12.0             NaN  \n",
              "1        12.0             NaN  \n",
              "2        12.0             NaN  \n",
              "3        12.0             NaN  \n",
              "4        12.0             NaN  \n",
              "\n",
              "[5 rows x 22 columns]"
            ],
            "text/html": [
              "\n",
              "  <div id=\"df-9cbcb8f1-9728-40b5-96c1-9a9f625a6951\">\n",
              "    <div class=\"colab-df-container\">\n",
              "      <div>\n",
              "<style scoped>\n",
              "    .dataframe tbody tr th:only-of-type {\n",
              "        vertical-align: middle;\n",
              "    }\n",
              "\n",
              "    .dataframe tbody tr th {\n",
              "        vertical-align: top;\n",
              "    }\n",
              "\n",
              "    .dataframe thead th {\n",
              "        text-align: right;\n",
              "    }\n",
              "</style>\n",
              "<table border=\"1\" class=\"dataframe\">\n",
              "  <thead>\n",
              "    <tr style=\"text-align: right;\">\n",
              "      <th></th>\n",
              "      <th>device_type</th>\n",
              "      <th>live_tv_id</th>\n",
              "      <th>request_url</th>\n",
              "      <th>request_method</th>\n",
              "      <th>time_received</th>\n",
              "      <th>user_loc</th>\n",
              "      <th>byte_sent</th>\n",
              "      <th>vod_encoding</th>\n",
              "      <th>time_to_serve</th>\n",
              "      <th>content_type</th>\n",
              "      <th>...</th>\n",
              "      <th>cachecontrol</th>\n",
              "      <th>method</th>\n",
              "      <th>response_status</th>\n",
              "      <th>user_id</th>\n",
              "      <th>host_id</th>\n",
              "      <th>vod_id</th>\n",
              "      <th>devicebrand</th>\n",
              "      <th>statuscode</th>\n",
              "      <th>user_agent</th>\n",
              "      <th>request_header</th>\n",
              "    </tr>\n",
              "  </thead>\n",
              "  <tbody>\n",
              "    <tr>\n",
              "      <th>0</th>\n",
              "      <td>0.0</td>\n",
              "      <td>NaN</td>\n",
              "      <td>73218596</td>\n",
              "      <td>HTTP/1.1</td>\n",
              "      <td>2021-11-14 06:00:14+00:00</td>\n",
              "      <td>0</td>\n",
              "      <td>1542.095238</td>\n",
              "      <td>10.0</td>\n",
              "      <td>0.000274</td>\n",
              "      <td>video/mpeg</td>\n",
              "      <td>...</td>\n",
              "      <td>Cache-Control:max-age=31536000</td>\n",
              "      <td>GET</td>\n",
              "      <td>tcp_hit</td>\n",
              "      <td>NaN</td>\n",
              "      <td>4</td>\n",
              "      <td>2751.0</td>\n",
              "      <td>NaN</td>\n",
              "      <td>206</td>\n",
              "      <td>12.0</td>\n",
              "      <td>NaN</td>\n",
              "    </tr>\n",
              "    <tr>\n",
              "      <th>1</th>\n",
              "      <td>0.0</td>\n",
              "      <td>NaN</td>\n",
              "      <td>74962598</td>\n",
              "      <td>HTTP/1.1</td>\n",
              "      <td>2021-11-14 06:19:57+00:00</td>\n",
              "      <td>1816</td>\n",
              "      <td>70985.984127</td>\n",
              "      <td>1659.0</td>\n",
              "      <td>0.430289</td>\n",
              "      <td>video/mp4</td>\n",
              "      <td>...</td>\n",
              "      <td>Cache-Control:max-age=31536000</td>\n",
              "      <td>GET</td>\n",
              "      <td>tcp_hit</td>\n",
              "      <td>NaN</td>\n",
              "      <td>4</td>\n",
              "      <td>3031.0</td>\n",
              "      <td>NaN</td>\n",
              "      <td>206</td>\n",
              "      <td>12.0</td>\n",
              "      <td>NaN</td>\n",
              "    </tr>\n",
              "    <tr>\n",
              "      <th>2</th>\n",
              "      <td>0.0</td>\n",
              "      <td>NaN</td>\n",
              "      <td>74687485</td>\n",
              "      <td>HTTP/1.1</td>\n",
              "      <td>2021-11-14 06:21:14+00:00</td>\n",
              "      <td>944</td>\n",
              "      <td>65501.857143</td>\n",
              "      <td>2673.0</td>\n",
              "      <td>2.474124</td>\n",
              "      <td>video/mp4</td>\n",
              "      <td>...</td>\n",
              "      <td>Cache-Control:max-age=31536000</td>\n",
              "      <td>GET</td>\n",
              "      <td>tcp_hit</td>\n",
              "      <td>NaN</td>\n",
              "      <td>4</td>\n",
              "      <td>2978.0</td>\n",
              "      <td>NaN</td>\n",
              "      <td>206</td>\n",
              "      <td>12.0</td>\n",
              "      <td>NaN</td>\n",
              "    </tr>\n",
              "    <tr>\n",
              "      <th>3</th>\n",
              "      <td>0.0</td>\n",
              "      <td>NaN</td>\n",
              "      <td>73908576</td>\n",
              "      <td>HTTP/1.1</td>\n",
              "      <td>2021-11-14 06:21:18+00:00</td>\n",
              "      <td>0</td>\n",
              "      <td>73345.412698</td>\n",
              "      <td>2580.0</td>\n",
              "      <td>0.380959</td>\n",
              "      <td>video/mp4</td>\n",
              "      <td>...</td>\n",
              "      <td>Cache-Control:max-age=31536000</td>\n",
              "      <td>GET</td>\n",
              "      <td>tcp_hit</td>\n",
              "      <td>NaN</td>\n",
              "      <td>4</td>\n",
              "      <td>2868.0</td>\n",
              "      <td>NaN</td>\n",
              "      <td>206</td>\n",
              "      <td>12.0</td>\n",
              "      <td>NaN</td>\n",
              "    </tr>\n",
              "    <tr>\n",
              "      <th>4</th>\n",
              "      <td>0.0</td>\n",
              "      <td>NaN</td>\n",
              "      <td>74687475</td>\n",
              "      <td>HTTP/1.1</td>\n",
              "      <td>2021-11-14 06:22:01+00:00</td>\n",
              "      <td>944</td>\n",
              "      <td>1579.349206</td>\n",
              "      <td>2673.0</td>\n",
              "      <td>0.000244</td>\n",
              "      <td>video/mpeg</td>\n",
              "      <td>...</td>\n",
              "      <td>Cache-Control:max-age=31536000</td>\n",
              "      <td>GET</td>\n",
              "      <td>tcp_hit</td>\n",
              "      <td>NaN</td>\n",
              "      <td>4</td>\n",
              "      <td>2978.0</td>\n",
              "      <td>NaN</td>\n",
              "      <td>206</td>\n",
              "      <td>12.0</td>\n",
              "      <td>NaN</td>\n",
              "    </tr>\n",
              "  </tbody>\n",
              "</table>\n",
              "<p>5 rows × 22 columns</p>\n",
              "</div>\n",
              "      <button class=\"colab-df-convert\" onclick=\"convertToInteractive('df-9cbcb8f1-9728-40b5-96c1-9a9f625a6951')\"\n",
              "              title=\"Convert this dataframe to an interactive table.\"\n",
              "              style=\"display:none;\">\n",
              "        \n",
              "  <svg xmlns=\"http://www.w3.org/2000/svg\" height=\"24px\"viewBox=\"0 0 24 24\"\n",
              "       width=\"24px\">\n",
              "    <path d=\"M0 0h24v24H0V0z\" fill=\"none\"/>\n",
              "    <path d=\"M18.56 5.44l.94 2.06.94-2.06 2.06-.94-2.06-.94-.94-2.06-.94 2.06-2.06.94zm-11 1L8.5 8.5l.94-2.06 2.06-.94-2.06-.94L8.5 2.5l-.94 2.06-2.06.94zm10 10l.94 2.06.94-2.06 2.06-.94-2.06-.94-.94-2.06-.94 2.06-2.06.94z\"/><path d=\"M17.41 7.96l-1.37-1.37c-.4-.4-.92-.59-1.43-.59-.52 0-1.04.2-1.43.59L10.3 9.45l-7.72 7.72c-.78.78-.78 2.05 0 2.83L4 21.41c.39.39.9.59 1.41.59.51 0 1.02-.2 1.41-.59l7.78-7.78 2.81-2.81c.8-.78.8-2.07 0-2.86zM5.41 20L4 18.59l7.72-7.72 1.47 1.35L5.41 20z\"/>\n",
              "  </svg>\n",
              "      </button>\n",
              "      \n",
              "  <style>\n",
              "    .colab-df-container {\n",
              "      display:flex;\n",
              "      flex-wrap:wrap;\n",
              "      gap: 12px;\n",
              "    }\n",
              "\n",
              "    .colab-df-convert {\n",
              "      background-color: #E8F0FE;\n",
              "      border: none;\n",
              "      border-radius: 50%;\n",
              "      cursor: pointer;\n",
              "      display: none;\n",
              "      fill: #1967D2;\n",
              "      height: 32px;\n",
              "      padding: 0 0 0 0;\n",
              "      width: 32px;\n",
              "    }\n",
              "\n",
              "    .colab-df-convert:hover {\n",
              "      background-color: #E2EBFA;\n",
              "      box-shadow: 0px 1px 2px rgba(60, 64, 67, 0.3), 0px 1px 3px 1px rgba(60, 64, 67, 0.15);\n",
              "      fill: #174EA6;\n",
              "    }\n",
              "\n",
              "    [theme=dark] .colab-df-convert {\n",
              "      background-color: #3B4455;\n",
              "      fill: #D2E3FC;\n",
              "    }\n",
              "\n",
              "    [theme=dark] .colab-df-convert:hover {\n",
              "      background-color: #434B5C;\n",
              "      box-shadow: 0px 1px 3px 1px rgba(0, 0, 0, 0.15);\n",
              "      filter: drop-shadow(0px 1px 2px rgba(0, 0, 0, 0.3));\n",
              "      fill: #FFFFFF;\n",
              "    }\n",
              "  </style>\n",
              "\n",
              "      <script>\n",
              "        const buttonEl =\n",
              "          document.querySelector('#df-9cbcb8f1-9728-40b5-96c1-9a9f625a6951 button.colab-df-convert');\n",
              "        buttonEl.style.display =\n",
              "          google.colab.kernel.accessAllowed ? 'block' : 'none';\n",
              "\n",
              "        async function convertToInteractive(key) {\n",
              "          const element = document.querySelector('#df-9cbcb8f1-9728-40b5-96c1-9a9f625a6951');\n",
              "          const dataTable =\n",
              "            await google.colab.kernel.invokeFunction('convertToInteractive',\n",
              "                                                     [key], {});\n",
              "          if (!dataTable) return;\n",
              "\n",
              "          const docLinkHtml = 'Like what you see? Visit the ' +\n",
              "            '<a target=\"_blank\" href=https://colab.research.google.com/notebooks/data_table.ipynb>data table notebook</a>'\n",
              "            + ' to learn more about interactive tables.';\n",
              "          element.innerHTML = '';\n",
              "          dataTable['output_type'] = 'display_data';\n",
              "          await google.colab.output.renderOutput(dataTable, element);\n",
              "          const docLink = document.createElement('div');\n",
              "          docLink.innerHTML = docLinkHtml;\n",
              "          element.appendChild(docLink);\n",
              "        }\n",
              "      </script>\n",
              "    </div>\n",
              "  </div>\n",
              "  "
            ]
          },
          "metadata": {},
          "execution_count": 38
        }
      ],
      "source": [
        "data= pd.read_csv('/content/drive/MyDrive/Data Science Lab 1/VoD_DSLab01.csv')\n",
        "data.head()"
      ]
    },
    {
      "cell_type": "code",
      "execution_count": null,
      "metadata": {
        "colab": {
          "base_uri": "https://localhost:8080/"
        },
        "id": "Jr1vHSoyfSqd",
        "outputId": "00ffdc01-9b3a-4620-f6ba-921792e88215"
      },
      "outputs": [
        {
          "output_type": "stream",
          "name": "stdout",
          "text": [
            "<class 'pandas.core.frame.DataFrame'>\n",
            "RangeIndex: 1577063 entries, 0 to 1577062\n",
            "Data columns (total 22 columns):\n",
            " #   Column           Non-Null Count    Dtype  \n",
            "---  ------           --------------    -----  \n",
            " 0   device_type      1268967 non-null  float64\n",
            " 1   live_tv_id       0 non-null        float64\n",
            " 2   request_url      1577063 non-null  int64  \n",
            " 3   request_method   1577063 non-null  object \n",
            " 4   time_received    1577063 non-null  object \n",
            " 5   user_loc         1577063 non-null  int64  \n",
            " 6   byte_sent        1577063 non-null  float64\n",
            " 7   vod_encoding     1571865 non-null  float64\n",
            " 8   time_to_serve    1577063 non-null  float64\n",
            " 9   content_type     1577063 non-null  object \n",
            " 10  maxage           1567680 non-null  float64\n",
            " 11  session_id       1577063 non-null  int64  \n",
            " 12  cachecontrol     1577063 non-null  object \n",
            " 13  method           1577063 non-null  object \n",
            " 14  response_status  1577063 non-null  object \n",
            " 15  user_id          144863 non-null   float64\n",
            " 16  host_id          1577063 non-null  int64  \n",
            " 17  vod_id           1571865 non-null  float64\n",
            " 18  devicebrand      159026 non-null   float64\n",
            " 19  statuscode       1577063 non-null  int64  \n",
            " 20  user_agent       1268967 non-null  float64\n",
            " 21  request_header   101359 non-null   float64\n",
            "dtypes: float64(11), int64(5), object(6)\n",
            "memory usage: 264.7+ MB\n"
          ]
        }
      ],
      "source": [
        "data.info()"
      ]
    },
    {
      "cell_type": "code",
      "execution_count": null,
      "metadata": {
        "colab": {
          "base_uri": "https://localhost:8080/"
        },
        "id": "VyUUHPYTlNP1",
        "outputId": "343561d6-6289-41a8-a1a3-01e89eb69e3c"
      },
      "outputs": [
        {
          "output_type": "stream",
          "name": "stdout",
          "text": [
            "device_type\n",
            "False    1268967\n",
            "True      308096\n",
            "Name: device_type, dtype: int64\n",
            "live_tv_id\n",
            "True    1577063\n",
            "Name: live_tv_id, dtype: int64\n",
            "request_url\n",
            "False    1577063\n",
            "Name: request_url, dtype: int64\n",
            "request_method\n",
            "False    1577063\n",
            "Name: request_method, dtype: int64\n",
            "time_received\n",
            "False    1577063\n",
            "Name: time_received, dtype: int64\n",
            "user_loc\n",
            "False    1577063\n",
            "Name: user_loc, dtype: int64\n",
            "byte_sent\n",
            "False    1577063\n",
            "Name: byte_sent, dtype: int64\n",
            "vod_encoding\n",
            "False    1571865\n",
            "True        5198\n",
            "Name: vod_encoding, dtype: int64\n",
            "time_to_serve\n",
            "False    1577063\n",
            "Name: time_to_serve, dtype: int64\n",
            "content_type\n",
            "False    1577063\n",
            "Name: content_type, dtype: int64\n",
            "maxage\n",
            "False    1567680\n",
            "True        9383\n",
            "Name: maxage, dtype: int64\n",
            "session_id\n",
            "False    1577063\n",
            "Name: session_id, dtype: int64\n",
            "cachecontrol\n",
            "False    1577063\n",
            "Name: cachecontrol, dtype: int64\n",
            "method\n",
            "False    1577063\n",
            "Name: method, dtype: int64\n",
            "response_status\n",
            "False    1577063\n",
            "Name: response_status, dtype: int64\n",
            "user_id\n",
            "True     1432200\n",
            "False     144863\n",
            "Name: user_id, dtype: int64\n",
            "host_id\n",
            "False    1577063\n",
            "Name: host_id, dtype: int64\n",
            "vod_id\n",
            "False    1571865\n",
            "True        5198\n",
            "Name: vod_id, dtype: int64\n",
            "devicebrand\n",
            "True     1418037\n",
            "False     159026\n",
            "Name: devicebrand, dtype: int64\n",
            "statuscode\n",
            "False    1577063\n",
            "Name: statuscode, dtype: int64\n",
            "user_agent\n",
            "False    1268967\n",
            "True      308096\n",
            "Name: user_agent, dtype: int64\n",
            "request_header\n",
            "True     1475704\n",
            "False     101359\n",
            "Name: request_header, dtype: int64\n"
          ]
        }
      ],
      "source": [
        "missing_data = data.isnull()\n",
        "for column in missing_data.columns.values.tolist():\n",
        "  print(column)\n",
        "  print(missing_data[column].value_counts())"
      ]
    },
    {
      "cell_type": "code",
      "execution_count": null,
      "metadata": {
        "id": "aRxuf7EkqFPN"
      },
      "outputs": [],
      "source": [
        "data = data.drop(columns= ['live_tv_id', 'content_type',\n",
        "                           'devicebrand','device_type'], \n",
        "                 axis = 0, inplace=False)\n"
      ]
    },
    {
      "cell_type": "code",
      "execution_count": null,
      "metadata": {
        "id": "ir4rG-aUqU29"
      },
      "outputs": [],
      "source": [
        "cols = [\"user_id\", \"request_header\",'response_status']\n",
        "data[cols]=data[cols].fillna(data.mode().iloc[0])\n"
      ]
    },
    {
      "cell_type": "code",
      "execution_count": null,
      "metadata": {
        "colab": {
          "base_uri": "https://localhost:8080/",
          "height": 444
        },
        "id": "tVa2YxYHmpaV",
        "outputId": "791c53ca-406b-4802-f20d-bcae2af274bc"
      },
      "outputs": [
        {
          "output_type": "execute_result",
          "data": {
            "text/plain": [
              "         request_url request_method              time_received  user_loc  \\\n",
              "1577058     61866080       HTTP/1.1  2021-11-15 22:46:15+00:00         1   \n",
              "1577059     61869422       HTTP/1.1  2021-11-15 22:47:16+00:00         0   \n",
              "1577060     61869601       HTTP/1.1  2021-11-15 22:47:19+00:00        91   \n",
              "1577061     61870245       HTTP/1.1  2021-11-15 22:47:30+00:00        91   \n",
              "1577062     61870595       HTTP/1.1  2021-11-15 22:47:36+00:00        91   \n",
              "\n",
              "            byte_sent  vod_encoding  time_to_serve      maxage  session_id  \\\n",
              "1577058  30313.253968        2003.0       0.009384  31536000.0       73703   \n",
              "1577059    535.777778        1999.0       0.008067  31536000.0      659244   \n",
              "1577060  38154.428571        1542.0       0.011358  31536000.0      659957   \n",
              "1577061  33493.888889        1542.0       0.012635  31536000.0      659957   \n",
              "1577062    535.634921        1542.0       0.023869  31536000.0      659956   \n",
              "\n",
              "                           cachecontrol method response_status  user_id  \\\n",
              "1577058  Cache-Control:max-age=31536000    GET        tcp_miss  11335.0   \n",
              "1577059  Cache-Control:max-age=31536000    GET        tcp_miss   7092.0   \n",
              "1577060  Cache-Control:max-age=31536000    GET        tcp_miss   7092.0   \n",
              "1577061  Cache-Control:max-age=31536000    GET        tcp_miss   7092.0   \n",
              "1577062  Cache-Control:max-age=31536000    GET        tcp_miss   7092.0   \n",
              "\n",
              "         host_id  vod_id  statuscode  user_agent  request_header  \n",
              "1577058       12  2196.0         200         2.0             1.0  \n",
              "1577059       12  2191.0         200         NaN             1.0  \n",
              "1577060       12  1663.0         200        12.0             1.0  \n",
              "1577061       12  1663.0         200        12.0             1.0  \n",
              "1577062       12  1663.0         200        12.0             1.0  "
            ],
            "text/html": [
              "\n",
              "  <div id=\"df-f51c3691-48f5-41f5-9ba9-9b83c9f9a159\">\n",
              "    <div class=\"colab-df-container\">\n",
              "      <div>\n",
              "<style scoped>\n",
              "    .dataframe tbody tr th:only-of-type {\n",
              "        vertical-align: middle;\n",
              "    }\n",
              "\n",
              "    .dataframe tbody tr th {\n",
              "        vertical-align: top;\n",
              "    }\n",
              "\n",
              "    .dataframe thead th {\n",
              "        text-align: right;\n",
              "    }\n",
              "</style>\n",
              "<table border=\"1\" class=\"dataframe\">\n",
              "  <thead>\n",
              "    <tr style=\"text-align: right;\">\n",
              "      <th></th>\n",
              "      <th>request_url</th>\n",
              "      <th>request_method</th>\n",
              "      <th>time_received</th>\n",
              "      <th>user_loc</th>\n",
              "      <th>byte_sent</th>\n",
              "      <th>vod_encoding</th>\n",
              "      <th>time_to_serve</th>\n",
              "      <th>maxage</th>\n",
              "      <th>session_id</th>\n",
              "      <th>cachecontrol</th>\n",
              "      <th>method</th>\n",
              "      <th>response_status</th>\n",
              "      <th>user_id</th>\n",
              "      <th>host_id</th>\n",
              "      <th>vod_id</th>\n",
              "      <th>statuscode</th>\n",
              "      <th>user_agent</th>\n",
              "      <th>request_header</th>\n",
              "    </tr>\n",
              "  </thead>\n",
              "  <tbody>\n",
              "    <tr>\n",
              "      <th>1577058</th>\n",
              "      <td>61866080</td>\n",
              "      <td>HTTP/1.1</td>\n",
              "      <td>2021-11-15 22:46:15+00:00</td>\n",
              "      <td>1</td>\n",
              "      <td>30313.253968</td>\n",
              "      <td>2003.0</td>\n",
              "      <td>0.009384</td>\n",
              "      <td>31536000.0</td>\n",
              "      <td>73703</td>\n",
              "      <td>Cache-Control:max-age=31536000</td>\n",
              "      <td>GET</td>\n",
              "      <td>tcp_miss</td>\n",
              "      <td>11335.0</td>\n",
              "      <td>12</td>\n",
              "      <td>2196.0</td>\n",
              "      <td>200</td>\n",
              "      <td>2.0</td>\n",
              "      <td>1.0</td>\n",
              "    </tr>\n",
              "    <tr>\n",
              "      <th>1577059</th>\n",
              "      <td>61869422</td>\n",
              "      <td>HTTP/1.1</td>\n",
              "      <td>2021-11-15 22:47:16+00:00</td>\n",
              "      <td>0</td>\n",
              "      <td>535.777778</td>\n",
              "      <td>1999.0</td>\n",
              "      <td>0.008067</td>\n",
              "      <td>31536000.0</td>\n",
              "      <td>659244</td>\n",
              "      <td>Cache-Control:max-age=31536000</td>\n",
              "      <td>GET</td>\n",
              "      <td>tcp_miss</td>\n",
              "      <td>7092.0</td>\n",
              "      <td>12</td>\n",
              "      <td>2191.0</td>\n",
              "      <td>200</td>\n",
              "      <td>NaN</td>\n",
              "      <td>1.0</td>\n",
              "    </tr>\n",
              "    <tr>\n",
              "      <th>1577060</th>\n",
              "      <td>61869601</td>\n",
              "      <td>HTTP/1.1</td>\n",
              "      <td>2021-11-15 22:47:19+00:00</td>\n",
              "      <td>91</td>\n",
              "      <td>38154.428571</td>\n",
              "      <td>1542.0</td>\n",
              "      <td>0.011358</td>\n",
              "      <td>31536000.0</td>\n",
              "      <td>659957</td>\n",
              "      <td>Cache-Control:max-age=31536000</td>\n",
              "      <td>GET</td>\n",
              "      <td>tcp_miss</td>\n",
              "      <td>7092.0</td>\n",
              "      <td>12</td>\n",
              "      <td>1663.0</td>\n",
              "      <td>200</td>\n",
              "      <td>12.0</td>\n",
              "      <td>1.0</td>\n",
              "    </tr>\n",
              "    <tr>\n",
              "      <th>1577061</th>\n",
              "      <td>61870245</td>\n",
              "      <td>HTTP/1.1</td>\n",
              "      <td>2021-11-15 22:47:30+00:00</td>\n",
              "      <td>91</td>\n",
              "      <td>33493.888889</td>\n",
              "      <td>1542.0</td>\n",
              "      <td>0.012635</td>\n",
              "      <td>31536000.0</td>\n",
              "      <td>659957</td>\n",
              "      <td>Cache-Control:max-age=31536000</td>\n",
              "      <td>GET</td>\n",
              "      <td>tcp_miss</td>\n",
              "      <td>7092.0</td>\n",
              "      <td>12</td>\n",
              "      <td>1663.0</td>\n",
              "      <td>200</td>\n",
              "      <td>12.0</td>\n",
              "      <td>1.0</td>\n",
              "    </tr>\n",
              "    <tr>\n",
              "      <th>1577062</th>\n",
              "      <td>61870595</td>\n",
              "      <td>HTTP/1.1</td>\n",
              "      <td>2021-11-15 22:47:36+00:00</td>\n",
              "      <td>91</td>\n",
              "      <td>535.634921</td>\n",
              "      <td>1542.0</td>\n",
              "      <td>0.023869</td>\n",
              "      <td>31536000.0</td>\n",
              "      <td>659956</td>\n",
              "      <td>Cache-Control:max-age=31536000</td>\n",
              "      <td>GET</td>\n",
              "      <td>tcp_miss</td>\n",
              "      <td>7092.0</td>\n",
              "      <td>12</td>\n",
              "      <td>1663.0</td>\n",
              "      <td>200</td>\n",
              "      <td>12.0</td>\n",
              "      <td>1.0</td>\n",
              "    </tr>\n",
              "  </tbody>\n",
              "</table>\n",
              "</div>\n",
              "      <button class=\"colab-df-convert\" onclick=\"convertToInteractive('df-f51c3691-48f5-41f5-9ba9-9b83c9f9a159')\"\n",
              "              title=\"Convert this dataframe to an interactive table.\"\n",
              "              style=\"display:none;\">\n",
              "        \n",
              "  <svg xmlns=\"http://www.w3.org/2000/svg\" height=\"24px\"viewBox=\"0 0 24 24\"\n",
              "       width=\"24px\">\n",
              "    <path d=\"M0 0h24v24H0V0z\" fill=\"none\"/>\n",
              "    <path d=\"M18.56 5.44l.94 2.06.94-2.06 2.06-.94-2.06-.94-.94-2.06-.94 2.06-2.06.94zm-11 1L8.5 8.5l.94-2.06 2.06-.94-2.06-.94L8.5 2.5l-.94 2.06-2.06.94zm10 10l.94 2.06.94-2.06 2.06-.94-2.06-.94-.94-2.06-.94 2.06-2.06.94z\"/><path d=\"M17.41 7.96l-1.37-1.37c-.4-.4-.92-.59-1.43-.59-.52 0-1.04.2-1.43.59L10.3 9.45l-7.72 7.72c-.78.78-.78 2.05 0 2.83L4 21.41c.39.39.9.59 1.41.59.51 0 1.02-.2 1.41-.59l7.78-7.78 2.81-2.81c.8-.78.8-2.07 0-2.86zM5.41 20L4 18.59l7.72-7.72 1.47 1.35L5.41 20z\"/>\n",
              "  </svg>\n",
              "      </button>\n",
              "      \n",
              "  <style>\n",
              "    .colab-df-container {\n",
              "      display:flex;\n",
              "      flex-wrap:wrap;\n",
              "      gap: 12px;\n",
              "    }\n",
              "\n",
              "    .colab-df-convert {\n",
              "      background-color: #E8F0FE;\n",
              "      border: none;\n",
              "      border-radius: 50%;\n",
              "      cursor: pointer;\n",
              "      display: none;\n",
              "      fill: #1967D2;\n",
              "      height: 32px;\n",
              "      padding: 0 0 0 0;\n",
              "      width: 32px;\n",
              "    }\n",
              "\n",
              "    .colab-df-convert:hover {\n",
              "      background-color: #E2EBFA;\n",
              "      box-shadow: 0px 1px 2px rgba(60, 64, 67, 0.3), 0px 1px 3px 1px rgba(60, 64, 67, 0.15);\n",
              "      fill: #174EA6;\n",
              "    }\n",
              "\n",
              "    [theme=dark] .colab-df-convert {\n",
              "      background-color: #3B4455;\n",
              "      fill: #D2E3FC;\n",
              "    }\n",
              "\n",
              "    [theme=dark] .colab-df-convert:hover {\n",
              "      background-color: #434B5C;\n",
              "      box-shadow: 0px 1px 3px 1px rgba(0, 0, 0, 0.15);\n",
              "      filter: drop-shadow(0px 1px 2px rgba(0, 0, 0, 0.3));\n",
              "      fill: #FFFFFF;\n",
              "    }\n",
              "  </style>\n",
              "\n",
              "      <script>\n",
              "        const buttonEl =\n",
              "          document.querySelector('#df-f51c3691-48f5-41f5-9ba9-9b83c9f9a159 button.colab-df-convert');\n",
              "        buttonEl.style.display =\n",
              "          google.colab.kernel.accessAllowed ? 'block' : 'none';\n",
              "\n",
              "        async function convertToInteractive(key) {\n",
              "          const element = document.querySelector('#df-f51c3691-48f5-41f5-9ba9-9b83c9f9a159');\n",
              "          const dataTable =\n",
              "            await google.colab.kernel.invokeFunction('convertToInteractive',\n",
              "                                                     [key], {});\n",
              "          if (!dataTable) return;\n",
              "\n",
              "          const docLinkHtml = 'Like what you see? Visit the ' +\n",
              "            '<a target=\"_blank\" href=https://colab.research.google.com/notebooks/data_table.ipynb>data table notebook</a>'\n",
              "            + ' to learn more about interactive tables.';\n",
              "          element.innerHTML = '';\n",
              "          dataTable['output_type'] = 'display_data';\n",
              "          await google.colab.output.renderOutput(dataTable, element);\n",
              "          const docLink = document.createElement('div');\n",
              "          docLink.innerHTML = docLinkHtml;\n",
              "          element.appendChild(docLink);\n",
              "        }\n",
              "      </script>\n",
              "    </div>\n",
              "  </div>\n",
              "  "
            ]
          },
          "metadata": {},
          "execution_count": 43
        }
      ],
      "source": [
        "data.dropna()\n",
        "data.tail()"
      ]
    },
    {
      "cell_type": "code",
      "execution_count": null,
      "metadata": {
        "colab": {
          "base_uri": "https://localhost:8080/",
          "height": 726
        },
        "id": "WPUcEZlrnQSG",
        "outputId": "6452b2cc-623e-4138-b174-c68fee3cf5de"
      },
      "outputs": [
        {
          "output_type": "execute_result",
          "data": {
            "text/plain": [
              "array([[<matplotlib.axes._subplots.AxesSubplot object at 0x7f728eebfe50>,\n",
              "        <matplotlib.axes._subplots.AxesSubplot object at 0x7f728f5b6c90>,\n",
              "        <matplotlib.axes._subplots.AxesSubplot object at 0x7f728d5f3ad0>,\n",
              "        <matplotlib.axes._subplots.AxesSubplot object at 0x7f728d5b2110>],\n",
              "       [<matplotlib.axes._subplots.AxesSubplot object at 0x7f728d564710>,\n",
              "        <matplotlib.axes._subplots.AxesSubplot object at 0x7f728d599d10>,\n",
              "        <matplotlib.axes._subplots.AxesSubplot object at 0x7f728d55a3d0>,\n",
              "        <matplotlib.axes._subplots.AxesSubplot object at 0x7f728d510910>],\n",
              "       [<matplotlib.axes._subplots.AxesSubplot object at 0x7f728d510950>,\n",
              "        <matplotlib.axes._subplots.AxesSubplot object at 0x7f728ec9da10>,\n",
              "        <matplotlib.axes._subplots.AxesSubplot object at 0x7f728d4e3410>,\n",
              "        <matplotlib.axes._subplots.AxesSubplot object at 0x7f728b8d5f90>],\n",
              "       [<matplotlib.axes._subplots.AxesSubplot object at 0x7f728b8bd1d0>,\n",
              "        <matplotlib.axes._subplots.AxesSubplot object at 0x7f728d3eb310>,\n",
              "        <matplotlib.axes._subplots.AxesSubplot object at 0x7f728d420910>,\n",
              "        <matplotlib.axes._subplots.AxesSubplot object at 0x7f728d3d6f10>]],\n",
              "      dtype=object)"
            ]
          },
          "metadata": {},
          "execution_count": 44
        },
        {
          "output_type": "display_data",
          "data": {
            "text/plain": [
              "<Figure size 1080x720 with 16 Axes>"
            ],
            "image/png": "[encoded data removed]"
          },
          "metadata": {
            "needs_background": "light"
          }
        }
      ],
      "source": [
        "data.hist(figsize=(15, 10))"
      ]
    },
    {
      "cell_type": "code",
      "execution_count": null,
      "metadata": {
        "colab": {
          "base_uri": "https://localhost:8080/",
          "height": 279
        },
        "id": "N55aY3V3oU7K",
        "outputId": "93db4784-14b7-4c3b-cbcc-3b309beb7d90"
      },
      "outputs": [
        {
          "output_type": "display_data",
          "data": {
            "text/plain": [
              "<Figure size 432x288 with 1 Axes>"
            ],
            "image/png": "[encoded data removed]"
          },
          "metadata": {
            "needs_background": "light"
          }
        }
      ],
      "source": [
        "x = data['byte_sent']\n",
        "y = data['time_to_serve']\n",
        "\n",
        "plt.plot(x, y, 'o')\n",
        "plt.xlabel('bytes sent'), plt.ylabel('Time to serve')\n",
        "plt.show()"
      ]
    },
    {
      "cell_type": "code",
      "execution_count": null,
      "metadata": {
        "colab": {
          "base_uri": "https://localhost:8080/",
          "height": 280
        },
        "id": "5OYhFWLAogBF",
        "outputId": "65cfb021-6200-42dc-8e5d-569e365c960c"
      },
      "outputs": [
        {
          "output_type": "display_data",
          "data": {
            "text/plain": [
              "<Figure size 432x288 with 1 Axes>"
            ],
            "image/png": "[encoded data removed]"
          },
          "metadata": {
            "needs_background": "light"
          }
        }
      ],
      "source": [
        "sns.scatterplot(x=\"byte_sent\", y=\"time_to_serve\", \n",
        "                hue=\"response_status\",data = data);"
      ]
    },
    {
      "cell_type": "code",
      "execution_count": null,
      "metadata": {
        "colab": {
          "base_uri": "https://localhost:8080/",
          "height": 294
        },
        "id": "y9dkygHdovZN",
        "outputId": "467b3de3-791d-42bb-f8b7-8a3149a68060"
      },
      "outputs": [
        {
          "output_type": "display_data",
          "data": {
            "text/plain": [
              "<Figure size 809x360 with 2 Axes>"
            ],
            "image/png": "[encoded data removed]"
          },
          "metadata": {
            "needs_background": "light"
          }
        }
      ],
      "source": [
        "sns.relplot(x=\"byte_sent\", y=\"time_to_serve\", hue=\"response_status\",\n",
        "            col=\"response_status\", data=data);"
      ]
    },
    {
      "cell_type": "code",
      "execution_count": null,
      "metadata": {
        "id": "uruv63fnoF4W"
      },
      "outputs": [],
      "source": [
        "tcp_hit = data.loc[data['response_status'] == 'tcp_hit']\n",
        "tcp_miss = data.loc[data['response_status'] == 'tcp_miss']"
      ]
    },
    {
      "cell_type": "code",
      "execution_count": null,
      "metadata": {
        "colab": {
          "base_uri": "https://localhost:8080/"
        },
        "id": "PzGoy8GYM76C",
        "outputId": "3f636725-a3ae-40e3-d5a8-c038d24e5106"
      },
      "outputs": [
        {
          "output_type": "execute_result",
          "data": {
            "text/plain": [
              "tcp_miss    945557\n",
              "tcp_hit     631506\n",
              "Name: response_status, dtype: int64"
            ]
          },
          "metadata": {},
          "execution_count": 49
        }
      ],
      "source": [
        "hit_mis = data['response_status']\n",
        "hit_mis.value_counts()"
      ]
    },
    {
      "cell_type": "code",
      "execution_count": null,
      "metadata": {
        "colab": {
          "base_uri": "https://localhost:8080/"
        },
        "id": "bUc-d0vYPWyh",
        "outputId": "949ef28f-c992-4709-e1ac-cb6bf86e536c"
      },
      "outputs": [
        {
          "output_type": "execute_result",
          "data": {
            "text/plain": [
              "0.4004316885248085"
            ]
          },
          "metadata": {},
          "execution_count": 50
        }
      ],
      "source": [
        "tcp_mis = 945557\n",
        "tcp_hit = 631506\n",
        "\n",
        "total = tcp_mis+tcp_hit\n",
        "\n",
        "hit_ratio = tcp_hit/total\n",
        "\n",
        "hit_ratio"
      ]
    },
    {
      "cell_type": "code",
      "execution_count": null,
      "metadata": {
        "colab": {
          "base_uri": "https://localhost:8080/",
          "height": 112
        },
        "id": "-h-zsflFyGQh",
        "outputId": "b6953e38-d317-49e8-db5f-7bc19e7c16c6"
      },
      "outputs": [
        {
          "output_type": "execute_result",
          "data": {
            "text/plain": [
              "  response_status      user_id\n",
              "0         tcp_hit  7176.034171\n",
              "1        tcp_miss  7410.642152"
            ],
            "text/html": [
              "\n",
              "  <div id=\"df-b25c08b4-e4c4-4316-b4eb-d0e4554329df\">\n",
              "    <div class=\"colab-df-container\">\n",
              "      <div>\n",
              "<style scoped>\n",
              "    .dataframe tbody tr th:only-of-type {\n",
              "        vertical-align: middle;\n",
              "    }\n",
              "\n",
              "    .dataframe tbody tr th {\n",
              "        vertical-align: top;\n",
              "    }\n",
              "\n",
              "    .dataframe thead th {\n",
              "        text-align: right;\n",
              "    }\n",
              "</style>\n",
              "<table border=\"1\" class=\"dataframe\">\n",
              "  <thead>\n",
              "    <tr style=\"text-align: right;\">\n",
              "      <th></th>\n",
              "      <th>response_status</th>\n",
              "      <th>user_id</th>\n",
              "    </tr>\n",
              "  </thead>\n",
              "  <tbody>\n",
              "    <tr>\n",
              "      <th>0</th>\n",
              "      <td>tcp_hit</td>\n",
              "      <td>7176.034171</td>\n",
              "    </tr>\n",
              "    <tr>\n",
              "      <th>1</th>\n",
              "      <td>tcp_miss</td>\n",
              "      <td>7410.642152</td>\n",
              "    </tr>\n",
              "  </tbody>\n",
              "</table>\n",
              "</div>\n",
              "      <button class=\"colab-df-convert\" onclick=\"convertToInteractive('df-b25c08b4-e4c4-4316-b4eb-d0e4554329df')\"\n",
              "              title=\"Convert this dataframe to an interactive table.\"\n",
              "              style=\"display:none;\">\n",
              "        \n",
              "  <svg xmlns=\"http://www.w3.org/2000/svg\" height=\"24px\"viewBox=\"0 0 24 24\"\n",
              "       width=\"24px\">\n",
              "    <path d=\"M0 0h24v24H0V0z\" fill=\"none\"/>\n",
              "    <path d=\"M18.56 5.44l.94 2.06.94-2.06 2.06-.94-2.06-.94-.94-2.06-.94 2.06-2.06.94zm-11 1L8.5 8.5l.94-2.06 2.06-.94-2.06-.94L8.5 2.5l-.94 2.06-2.06.94zm10 10l.94 2.06.94-2.06 2.06-.94-2.06-.94-.94-2.06-.94 2.06-2.06.94z\"/><path d=\"M17.41 7.96l-1.37-1.37c-.4-.4-.92-.59-1.43-.59-.52 0-1.04.2-1.43.59L10.3 9.45l-7.72 7.72c-.78.78-.78 2.05 0 2.83L4 21.41c.39.39.9.59 1.41.59.51 0 1.02-.2 1.41-.59l7.78-7.78 2.81-2.81c.8-.78.8-2.07 0-2.86zM5.41 20L4 18.59l7.72-7.72 1.47 1.35L5.41 20z\"/>\n",
              "  </svg>\n",
              "      </button>\n",
              "      \n",
              "  <style>\n",
              "    .colab-df-container {\n",
              "      display:flex;\n",
              "      flex-wrap:wrap;\n",
              "      gap: 12px;\n",
              "    }\n",
              "\n",
              "    .colab-df-convert {\n",
              "      background-color: #E8F0FE;\n",
              "      border: none;\n",
              "      border-radius: 50%;\n",
              "      cursor: pointer;\n",
              "      display: none;\n",
              "      fill: #1967D2;\n",
              "      height: 32px;\n",
              "      padding: 0 0 0 0;\n",
              "      width: 32px;\n",
              "    }\n",
              "\n",
              "    .colab-df-convert:hover {\n",
              "      background-color: #E2EBFA;\n",
              "      box-shadow: 0px 1px 2px rgba(60, 64, 67, 0.3), 0px 1px 3px 1px rgba(60, 64, 67, 0.15);\n",
              "      fill: #174EA6;\n",
              "    }\n",
              "\n",
              "    [theme=dark] .colab-df-convert {\n",
              "      background-color: #3B4455;\n",
              "      fill: #D2E3FC;\n",
              "    }\n",
              "\n",
              "    [theme=dark] .colab-df-convert:hover {\n",
              "      background-color: #434B5C;\n",
              "      box-shadow: 0px 1px 3px 1px rgba(0, 0, 0, 0.15);\n",
              "      filter: drop-shadow(0px 1px 2px rgba(0, 0, 0, 0.3));\n",
              "      fill: #FFFFFF;\n",
              "    }\n",
              "  </style>\n",
              "\n",
              "      <script>\n",
              "        const buttonEl =\n",
              "          document.querySelector('#df-b25c08b4-e4c4-4316-b4eb-d0e4554329df button.colab-df-convert');\n",
              "        buttonEl.style.display =\n",
              "          google.colab.kernel.accessAllowed ? 'block' : 'none';\n",
              "\n",
              "        async function convertToInteractive(key) {\n",
              "          const element = document.querySelector('#df-b25c08b4-e4c4-4316-b4eb-d0e4554329df');\n",
              "          const dataTable =\n",
              "            await google.colab.kernel.invokeFunction('convertToInteractive',\n",
              "                                                     [key], {});\n",
              "          if (!dataTable) return;\n",
              "\n",
              "          const docLinkHtml = 'Like what you see? Visit the ' +\n",
              "            '<a target=\"_blank\" href=https://colab.research.google.com/notebooks/data_table.ipynb>data table notebook</a>'\n",
              "            + ' to learn more about interactive tables.';\n",
              "          element.innerHTML = '';\n",
              "          dataTable['output_type'] = 'display_data';\n",
              "          await google.colab.output.renderOutput(dataTable, element);\n",
              "          const docLink = document.createElement('div');\n",
              "          docLink.innerHTML = docLinkHtml;\n",
              "          element.appendChild(docLink);\n",
              "        }\n",
              "      </script>\n",
              "    </div>\n",
              "  </div>\n",
              "  "
            ]
          },
          "metadata": {},
          "execution_count": 51
        }
      ],
      "source": [
        "data.groupby('response_status', as_index=False)['user_id'].mean()"
      ]
    },
    {
      "cell_type": "code",
      "execution_count": null,
      "metadata": {
        "colab": {
          "base_uri": "https://localhost:8080/"
        },
        "id": "x1oZC0Pm3qKj",
        "outputId": "cd30bea9-2d70-4aac-8f62-7e365a88ce2c"
      },
      "outputs": [
        {
          "output_type": "execute_result",
          "data": {
            "text/plain": [
              "0.491958141258332"
            ]
          },
          "metadata": {},
          "execution_count": 52
        }
      ],
      "source": [
        "tcp_mis = 7410.642152\n",
        "tcp_hit = 7176.034171\n",
        "\n",
        "total = tcp_mis+tcp_hit\n",
        "\n",
        "per_flow_per_user = tcp_hit/total\n",
        "\n",
        "per_flow_per_user"
      ]
    },
    {
      "cell_type": "code",
      "execution_count": null,
      "metadata": {
        "colab": {
          "base_uri": "https://localhost:8080/"
        },
        "id": "ZdmJqI3Z4PEv",
        "outputId": "914d4077-d37f-4bb2-82a8-6026e747f240"
      },
      "outputs": [
        {
          "output_type": "execute_result",
          "data": {
            "text/plain": [
              "7092.0     1454177\n",
              "11335.0      19876\n",
              "1234.0       15977\n",
              "1258.0       10882\n",
              "11185.0       9977\n",
              "            ...   \n",
              "25063.0          1\n",
              "16112.0          1\n",
              "23493.0          1\n",
              "23489.0          1\n",
              "17953.0          1\n",
              "Name: user_id, Length: 1706, dtype: int64"
            ]
          },
          "metadata": {},
          "execution_count": 53
        }
      ],
      "source": [
        "data['user_id'].value_counts()"
      ]
    },
    {
      "cell_type": "code",
      "execution_count": null,
      "metadata": {
        "id": "snJPBmSN6pPM",
        "colab": {
          "base_uri": "https://localhost:8080/",
          "height": 112
        },
        "outputId": "9498314a-e86c-42ca-a856-fe91ff0354ef"
      },
      "outputs": [
        {
          "output_type": "execute_result",
          "data": {
            "text/plain": [
              "  response_status   request_url\n",
              "0         tcp_hit  4.801884e+07\n",
              "1        tcp_miss  4.741490e+07"
            ],
            "text/html": [
              "\n",
              "  <div id=\"df-499ea899-cd18-40cd-a996-41cba9cfc2eb\">\n",
              "    <div class=\"colab-df-container\">\n",
              "      <div>\n",
              "<style scoped>\n",
              "    .dataframe tbody tr th:only-of-type {\n",
              "        vertical-align: middle;\n",
              "    }\n",
              "\n",
              "    .dataframe tbody tr th {\n",
              "        vertical-align: top;\n",
              "    }\n",
              "\n",
              "    .dataframe thead th {\n",
              "        text-align: right;\n",
              "    }\n",
              "</style>\n",
              "<table border=\"1\" class=\"dataframe\">\n",
              "  <thead>\n",
              "    <tr style=\"text-align: right;\">\n",
              "      <th></th>\n",
              "      <th>response_status</th>\n",
              "      <th>request_url</th>\n",
              "    </tr>\n",
              "  </thead>\n",
              "  <tbody>\n",
              "    <tr>\n",
              "      <th>0</th>\n",
              "      <td>tcp_hit</td>\n",
              "      <td>4.801884e+07</td>\n",
              "    </tr>\n",
              "    <tr>\n",
              "      <th>1</th>\n",
              "      <td>tcp_miss</td>\n",
              "      <td>4.741490e+07</td>\n",
              "    </tr>\n",
              "  </tbody>\n",
              "</table>\n",
              "</div>\n",
              "      <button class=\"colab-df-convert\" onclick=\"convertToInteractive('df-499ea899-cd18-40cd-a996-41cba9cfc2eb')\"\n",
              "              title=\"Convert this dataframe to an interactive table.\"\n",
              "              style=\"display:none;\">\n",
              "        \n",
              "  <svg xmlns=\"http://www.w3.org/2000/svg\" height=\"24px\"viewBox=\"0 0 24 24\"\n",
              "       width=\"24px\">\n",
              "    <path d=\"M0 0h24v24H0V0z\" fill=\"none\"/>\n",
              "    <path d=\"M18.56 5.44l.94 2.06.94-2.06 2.06-.94-2.06-.94-.94-2.06-.94 2.06-2.06.94zm-11 1L8.5 8.5l.94-2.06 2.06-.94-2.06-.94L8.5 2.5l-.94 2.06-2.06.94zm10 10l.94 2.06.94-2.06 2.06-.94-2.06-.94-.94-2.06-.94 2.06-2.06.94z\"/><path d=\"M17.41 7.96l-1.37-1.37c-.4-.4-.92-.59-1.43-.59-.52 0-1.04.2-1.43.59L10.3 9.45l-7.72 7.72c-.78.78-.78 2.05 0 2.83L4 21.41c.39.39.9.59 1.41.59.51 0 1.02-.2 1.41-.59l7.78-7.78 2.81-2.81c.8-.78.8-2.07 0-2.86zM5.41 20L4 18.59l7.72-7.72 1.47 1.35L5.41 20z\"/>\n",
              "  </svg>\n",
              "      </button>\n",
              "      \n",
              "  <style>\n",
              "    .colab-df-container {\n",
              "      display:flex;\n",
              "      flex-wrap:wrap;\n",
              "      gap: 12px;\n",
              "    }\n",
              "\n",
              "    .colab-df-convert {\n",
              "      background-color: #E8F0FE;\n",
              "      border: none;\n",
              "      border-radius: 50%;\n",
              "      cursor: pointer;\n",
              "      display: none;\n",
              "      fill: #1967D2;\n",
              "      height: 32px;\n",
              "      padding: 0 0 0 0;\n",
              "      width: 32px;\n",
              "    }\n",
              "\n",
              "    .colab-df-convert:hover {\n",
              "      background-color: #E2EBFA;\n",
              "      box-shadow: 0px 1px 2px rgba(60, 64, 67, 0.3), 0px 1px 3px 1px rgba(60, 64, 67, 0.15);\n",
              "      fill: #174EA6;\n",
              "    }\n",
              "\n",
              "    [theme=dark] .colab-df-convert {\n",
              "      background-color: #3B4455;\n",
              "      fill: #D2E3FC;\n",
              "    }\n",
              "\n",
              "    [theme=dark] .colab-df-convert:hover {\n",
              "      background-color: #434B5C;\n",
              "      box-shadow: 0px 1px 3px 1px rgba(0, 0, 0, 0.15);\n",
              "      filter: drop-shadow(0px 1px 2px rgba(0, 0, 0, 0.3));\n",
              "      fill: #FFFFFF;\n",
              "    }\n",
              "  </style>\n",
              "\n",
              "      <script>\n",
              "        const buttonEl =\n",
              "          document.querySelector('#df-499ea899-cd18-40cd-a996-41cba9cfc2eb button.colab-df-convert');\n",
              "        buttonEl.style.display =\n",
              "          google.colab.kernel.accessAllowed ? 'block' : 'none';\n",
              "\n",
              "        async function convertToInteractive(key) {\n",
              "          const element = document.querySelector('#df-499ea899-cd18-40cd-a996-41cba9cfc2eb');\n",
              "          const dataTable =\n",
              "            await google.colab.kernel.invokeFunction('convertToInteractive',\n",
              "                                                     [key], {});\n",
              "          if (!dataTable) return;\n",
              "\n",
              "          const docLinkHtml = 'Like what you see? Visit the ' +\n",
              "            '<a target=\"_blank\" href=https://colab.research.google.com/notebooks/data_table.ipynb>data table notebook</a>'\n",
              "            + ' to learn more about interactive tables.';\n",
              "          element.innerHTML = '';\n",
              "          dataTable['output_type'] = 'display_data';\n",
              "          await google.colab.output.renderOutput(dataTable, element);\n",
              "          const docLink = document.createElement('div');\n",
              "          docLink.innerHTML = docLinkHtml;\n",
              "          element.appendChild(docLink);\n",
              "        }\n",
              "      </script>\n",
              "    </div>\n",
              "  </div>\n",
              "  "
            ]
          },
          "metadata": {},
          "execution_count": 54
        }
      ],
      "source": [
        "data.groupby('response_status', as_index=False)['request_url'].mean()"
      ]
    },
    {
      "cell_type": "code",
      "execution_count": null,
      "metadata": {
        "colab": {
          "base_uri": "https://localhost:8080/"
        },
        "id": "RDR1wcLsEA0d",
        "outputId": "7543a3d9-c11e-4994-d7d3-ffbec34f534c"
      },
      "outputs": [
        {
          "output_type": "execute_result",
          "data": {
            "text/plain": [
              "57688675"
            ]
          },
          "metadata": {},
          "execution_count": 55
        }
      ],
      "source": [
        "data['request_url'][data['user_id']].values[0]"
      ]
    },
    {
      "cell_type": "code",
      "execution_count": null,
      "metadata": {
        "colab": {
          "base_uri": "https://localhost:8080/"
        },
        "id": "Dbo97j2GNIUI",
        "outputId": "77f78482-205e-4826-ccbe-85ff9f4d4dbb"
      },
      "outputs": [
        {
          "output_type": "execute_result",
          "data": {
            "text/plain": [
              "Index(['request_url', 'request_method', 'time_received', 'user_loc',\n",
              "       'byte_sent', 'vod_encoding', 'time_to_serve', 'maxage', 'session_id',\n",
              "       'cachecontrol', 'method', 'response_status', 'user_id', 'host_id',\n",
              "       'vod_id', 'statuscode', 'user_agent', 'request_header'],\n",
              "      dtype='object')"
            ]
          },
          "metadata": {},
          "execution_count": 56
        }
      ],
      "source": [
        "data.columns"
      ]
    },
    {
      "cell_type": "code",
      "execution_count": null,
      "metadata": {
        "id": "K4G_8JgmOw-J"
      },
      "outputs": [],
      "source": [
        "data['time_received']= pd.to_datetime(data['time_received'])"
      ]
    },
    {
      "cell_type": "code",
      "execution_count": null,
      "metadata": {
        "colab": {
          "base_uri": "https://localhost:8080/"
        },
        "id": "QTvPNOM7O2wg",
        "outputId": "78e30146-2a97-4c15-c9cf-5bb257617923"
      },
      "outputs": [
        {
          "output_type": "execute_result",
          "data": {
            "text/plain": [
              "0         2021-11-14 06:00:14+00:00\n",
              "1         2021-11-14 06:19:57+00:00\n",
              "2         2021-11-14 06:21:14+00:00\n",
              "3         2021-11-14 06:21:18+00:00\n",
              "4         2021-11-14 06:22:01+00:00\n",
              "                     ...           \n",
              "1577058   2021-11-15 22:46:15+00:00\n",
              "1577059   2021-11-15 22:47:16+00:00\n",
              "1577060   2021-11-15 22:47:19+00:00\n",
              "1577061   2021-11-15 22:47:30+00:00\n",
              "1577062   2021-11-15 22:47:36+00:00\n",
              "Name: time_received, Length: 1577063, dtype: datetime64[ns, UTC]"
            ]
          },
          "metadata": {},
          "execution_count": 58
        }
      ],
      "source": [
        "data['time_received']"
      ]
    },
    {
      "cell_type": "code",
      "execution_count": null,
      "metadata": {
        "id": "mdA84lu3VRhb"
      },
      "outputs": [],
      "source": [
        "series = data['time_received'].squeeze()"
      ]
    },
    {
      "cell_type": "code",
      "execution_count": null,
      "metadata": {
        "id": "M0rc4nzgVYCu",
        "colab": {
          "base_uri": "https://localhost:8080/"
        },
        "outputId": "acbff0df-3d79-468b-cf8a-be3cacb4899f"
      },
      "outputs": [
        {
          "output_type": "execute_result",
          "data": {
            "text/plain": [
              "0         2021-11-14 06:00:14+00:00\n",
              "1         2021-11-14 06:19:57+00:00\n",
              "2         2021-11-14 06:21:14+00:00\n",
              "3         2021-11-14 06:21:18+00:00\n",
              "4         2021-11-14 06:22:01+00:00\n",
              "                     ...           \n",
              "1577058   2021-11-15 22:46:15+00:00\n",
              "1577059   2021-11-15 22:47:16+00:00\n",
              "1577060   2021-11-15 22:47:19+00:00\n",
              "1577061   2021-11-15 22:47:30+00:00\n",
              "1577062   2021-11-15 22:47:36+00:00\n",
              "Name: time_received, Length: 1577063, dtype: datetime64[ns, UTC]"
            ]
          },
          "metadata": {},
          "execution_count": 60
        }
      ],
      "source": [
        "series"
      ]
    },
    {
      "cell_type": "code",
      "execution_count": null,
      "metadata": {
        "id": "kA3BKRL0Mbo7"
      },
      "outputs": [],
      "source": [
        "time = (data.groupby(['request_method','request_url', pd.Grouper(key='time_received', freq='H')])\n",
        "      .size().unstack(fill_value=0)\n",
        "      .reset_index()\n",
        "     )"
      ]
    },
    {
      "cell_type": "code",
      "execution_count": null,
      "metadata": {
        "id": "Q9pO5ZIUPwIo"
      },
      "outputs": [],
      "source": [
        "date_time = data[['time_received']]"
      ]
    },
    {
      "cell_type": "code",
      "execution_count": null,
      "metadata": {
        "colab": {
          "base_uri": "https://localhost:8080/"
        },
        "id": "btxWzNeRQL2a",
        "outputId": "352e1cf4-5740-4def-f07f-37f3055eacf1"
      },
      "outputs": [
        {
          "output_type": "stream",
          "name": "stderr",
          "text": [
            "/usr/local/lib/python3.7/dist-packages/ipykernel_launcher.py:1: SettingWithCopyWarning: \n",
            "A value is trying to be set on a copy of a slice from a DataFrame.\n",
            "Try using .loc[row_indexer,col_indexer] = value instead\n",
            "\n",
            "See the caveats in the documentation: https://pandas.pydata.org/pandas-docs/stable/user_guide/indexing.html#returning-a-view-versus-a-copy\n",
            "  \"\"\"Entry point for launching an IPython kernel.\n"
          ]
        }
      ],
      "source": [
        "date_time['ordinal'] = [x.toordinal() for x in date_time.time_received]"
      ]
    },
    {
      "cell_type": "code",
      "execution_count": null,
      "metadata": {
        "colab": {
          "base_uri": "https://localhost:8080/"
        },
        "id": "FiBFEc93aDgU",
        "outputId": "b1641a50-85ff-4a73-edea-9ae8ba2e7862"
      },
      "outputs": [
        {
          "output_type": "execute_result",
          "data": {
            "text/plain": [
              "<bound method NDFrame.head of                     time_received  ordinal\n",
              "0       2021-11-14 06:00:14+00:00   738108\n",
              "1       2021-11-14 06:19:57+00:00   738108\n",
              "2       2021-11-14 06:21:14+00:00   738108\n",
              "3       2021-11-14 06:21:18+00:00   738108\n",
              "4       2021-11-14 06:22:01+00:00   738108\n",
              "...                           ...      ...\n",
              "1577058 2021-11-15 22:46:15+00:00   738109\n",
              "1577059 2021-11-15 22:47:16+00:00   738109\n",
              "1577060 2021-11-15 22:47:19+00:00   738109\n",
              "1577061 2021-11-15 22:47:30+00:00   738109\n",
              "1577062 2021-11-15 22:47:36+00:00   738109\n",
              "\n",
              "[1577063 rows x 2 columns]>"
            ]
          },
          "metadata": {},
          "execution_count": 64
        }
      ],
      "source": [
        "date_time.head"
      ]
    },
    {
      "cell_type": "code",
      "execution_count": null,
      "metadata": {
        "id": "W4z9xqXtaebU",
        "colab": {
          "base_uri": "https://localhost:8080/",
          "height": 294
        },
        "outputId": "9ce4bf9c-fbd0-4201-8134-94d1f1f74582"
      },
      "outputs": [
        {
          "output_type": "display_data",
          "data": {
            "text/plain": [
              "<Figure size 432x288 with 1 Axes>"
            ],
            "image/png": "[encoded data removed]"
          },
          "metadata": {
            "needs_background": "light"
          }
        }
      ],
      "source": [
        "date_time.ordinal.plot.kde(color='green')\n",
        "plt.title('KDE-Density plot for Tip')\n",
        "plt.show()"
      ]
    },
    {
      "cell_type": "code",
      "execution_count": null,
      "metadata": {
        "id": "eUCfmN90cadV",
        "colab": {
          "base_uri": "https://localhost:8080/",
          "height": 438
        },
        "outputId": "401119ca-c609-4114-b4b2-43dbd217d899"
      },
      "outputs": [
        {
          "output_type": "display_data",
          "data": {
            "text/plain": [
              "<Figure size 432x288 with 1 Axes>"
            ],
            "image/png": "[encoded data removed]"
          },
          "metadata": {
            "needs_background": "light"
          }
        }
      ],
      "source": [
        "fig, ax = plt.subplots()\n",
        "date_time[\"time_received\"].astype(np.int64).plot.kde(ax=ax)\n",
        "labels = ax.get_xticks().tolist()\n",
        "labels = pd.to_datetime(labels)\n",
        "ax.set_xticklabels(labels, rotation=90)\n",
        "plt.title('Resource request interarrival time')\n",
        "plt.show()"
      ]
    },
    {
      "cell_type": "code",
      "execution_count": null,
      "metadata": {
        "id": "v5NDe5eAgBFo",
        "colab": {
          "base_uri": "https://localhost:8080/"
        },
        "outputId": "5f488519-2fa1-4f97-bcaf-666224d62d8d"
      },
      "outputs": [
        {
          "output_type": "stream",
          "name": "stderr",
          "text": [
            "/usr/local/lib/python3.7/dist-packages/ipykernel_launcher.py:1: SettingWithCopyWarning: \n",
            "A value is trying to be set on a copy of a slice from a DataFrame.\n",
            "Try using .loc[row_indexer,col_indexer] = value instead\n",
            "\n",
            "See the caveats in the documentation: https://pandas.pydata.org/pandas-docs/stable/user_guide/indexing.html#returning-a-view-versus-a-copy\n",
            "  \"\"\"Entry point for launching an IPython kernel.\n"
          ]
        }
      ],
      "source": [
        "dav=date_time['time_received'] = (date_time['time_received'] - date_time['time_received'].min())  / np.timedelta64(1,'D')"
      ]
    },
    {
      "cell_type": "code",
      "execution_count": null,
      "metadata": {
        "id": "dSwv2qNjhDdh"
      },
      "outputs": [],
      "source": [
        "time = date_time[\"time_received\"].values"
      ]
    },
    {
      "cell_type": "code",
      "execution_count": null,
      "metadata": {
        "id": "aoDFQXvBnJLx",
        "colab": {
          "base_uri": "https://localhost:8080/",
          "height": 994
        },
        "outputId": "bf864439-36b7-487a-aede-abc6cb19bd01"
      },
      "outputs": [
        {
          "output_type": "execute_result",
          "data": {
            "text/plain": [
              "(array([0.1403247 , 0.10439502, 0.09482157, 0.08496725, 0.09573445,\n",
              "        0.2328992 , 0.2968236 , 0.22508128, 0.24848823, 0.31393408,\n",
              "        0.24577303, 0.30363502, 0.2756403 , 0.23453769, 0.32523964,\n",
              "        0.40051641, 0.40994941, 0.17042604, 0.31573642, 0.39838637,\n",
              "        0.47113519, 0.69240114, 0.61394102, 0.6730904 , 0.48466441,\n",
              "        0.46380881, 0.56651853, 0.32371819, 0.26302395, 0.22393434,\n",
              "        0.20137003, 0.18327646, 0.07757065, 0.0743639 , 0.02534973,\n",
              "        0.09720908, 0.12557831, 0.13782015, 0.14507631, 0.1773545 ,\n",
              "        0.16604894, 0.25148433, 0.22430885, 0.17852485, 0.1591907 ,\n",
              "        0.17618415, 0.24457927, 0.20958588, 0.23989788, 0.38026939,\n",
              "        0.3974735 , 0.44513006, 0.51102064, 0.26606686, 0.08475658,\n",
              "        0.12246519, 0.2184337 , 0.76948024, 1.25222528, 1.18078725,\n",
              "        1.08540391, 0.86320169, 0.54680988, 0.56017525, 0.28425406,\n",
              "        0.28228788, 0.22428544, 0.20357029, 0.172322  , 0.17726087,\n",
              "        0.08328195, 0.03157598, 0.08208819, 0.1362987 , 0.12489951,\n",
              "        0.07515973, 0.16824919, 0.14722975, 0.21262878, 0.20654297,\n",
              "        0.29963243, 0.31222537, 0.43033687, 0.39604568, 0.32538008,\n",
              "        0.19366915, 0.25354414, 0.27585097, 0.31384045, 0.34153088,\n",
              "        0.50027685, 0.51233143, 0.59865628, 1.05165108, 0.99732354,\n",
              "        1.23520842, 1.33747341, 1.3997125 , 1.17210327, 0.88349552]),\n",
              " array([0.        , 0.02708981, 0.05417963, 0.08126944, 0.10835926,\n",
              "        0.13544907, 0.16253889, 0.1896287 , 0.21671852, 0.24380833,\n",
              "        0.27089815, 0.29798796, 0.32507778, 0.35216759, 0.37925741,\n",
              "        0.40634722, 0.43343704, 0.46052685, 0.48761667, 0.51470648,\n",
              "        0.5417963 , 0.56888611, 0.59597593, 0.62306574, 0.65015556,\n",
              "        0.67724537, 0.70433519, 0.731425  , 0.75851481, 0.78560463,\n",
              "        0.81269444, 0.83978426, 0.86687407, 0.89396389, 0.9210537 ,\n",
              "        0.94814352, 0.97523333, 1.00232315, 1.02941296, 1.05650278,\n",
              "        1.08359259, 1.11068241, 1.13777222, 1.16486204, 1.19195185,\n",
              "        1.21904167, 1.24613148, 1.2732213 , 1.30031111, 1.32740093,\n",
              "        1.35449074, 1.38158056, 1.40867037, 1.43576019, 1.46285   ,\n",
              "        1.48993981, 1.51702963, 1.54411944, 1.57120926, 1.59829907,\n",
              "        1.62538889, 1.6524787 , 1.67956852, 1.70665833, 1.73374815,\n",
              "        1.76083796, 1.78792778, 1.81501759, 1.84210741, 1.86919722,\n",
              "        1.89628704, 1.92337685, 1.95046667, 1.97755648, 2.0046463 ,\n",
              "        2.03173611, 2.05882593, 2.08591574, 2.11300556, 2.14009537,\n",
              "        2.16718519, 2.194275  , 2.22136481, 2.24845463, 2.27554444,\n",
              "        2.30263426, 2.32972407, 2.35681389, 2.3839037 , 2.41099352,\n",
              "        2.43808333, 2.46517315, 2.49226296, 2.51935278, 2.54644259,\n",
              "        2.57353241, 2.60062222, 2.62771204, 2.65480185, 2.68189167,\n",
              "        2.70898148]),\n",
              " <a list of 100 Patch objects>)"
            ]
          },
          "metadata": {},
          "execution_count": 69
        },
        {
          "output_type": "display_data",
          "data": {
            "text/plain": [
              "<Figure size 432x288 with 1 Axes>"
            ],
            "image/png": "[encoded data removed]"
          },
          "metadata": {
            "needs_background": "light"
          }
        }
      ],
      "source": [
        "plt.hist(dav, bins =100, density = True)"
      ]
    },
    {
      "cell_type": "code",
      "execution_count": null,
      "metadata": {
        "id": "LXB1zfePoO5C",
        "colab": {
          "base_uri": "https://localhost:8080/"
        },
        "outputId": "2c50a5da-3ac9-48f0-990e-0c4a6d338162"
      },
      "outputs": [
        {
          "output_type": "stream",
          "name": "stdout",
          "text": [
            "Looking in indexes: https://pypi.org/simple, https://us-python.pkg.dev/colab-wheels/public/simple/\n",
            "Collecting fitter\n",
            "  Downloading fitter-1.4.0.tar.gz (27 kB)\n",
            "Collecting easydev\n",
            "  Downloading easydev-0.12.0.tar.gz (47 kB)\n",
            "\u001b[K     |████████████████████████████████| 47 kB 4.7 MB/s \n",
            "\u001b[?25hRequirement already satisfied: numpy in /usr/local/lib/python3.7/dist-packages (from fitter) (1.21.6)\n",
            "Requirement already satisfied: matplotlib in /usr/local/lib/python3.7/dist-packages (from fitter) (3.2.2)\n",
            "Requirement already satisfied: scipy>=0.18 in /usr/local/lib/python3.7/dist-packages (from fitter) (1.4.1)\n",
            "Requirement already satisfied: pandas in /usr/local/lib/python3.7/dist-packages (from fitter) (1.3.5)\n",
            "Requirement already satisfied: click in /usr/local/lib/python3.7/dist-packages (from fitter) (7.1.2)\n",
            "Requirement already satisfied: joblib in /usr/local/lib/python3.7/dist-packages (from fitter) (1.1.0)\n",
            "Collecting colorama\n",
            "  Downloading colorama-0.4.4-py2.py3-none-any.whl (16 kB)\n",
            "Requirement already satisfied: pexpect in /usr/local/lib/python3.7/dist-packages (from easydev->fitter) (4.8.0)\n",
            "Collecting colorlog\n",
            "  Downloading colorlog-6.6.0-py2.py3-none-any.whl (11 kB)\n",
            "Requirement already satisfied: cycler>=0.10 in /usr/local/lib/python3.7/dist-packages (from matplotlib->fitter) (0.11.0)\n",
            "Requirement already satisfied: kiwisolver>=1.0.1 in /usr/local/lib/python3.7/dist-packages (from matplotlib->fitter) (1.4.2)\n",
            "Requirement already satisfied: python-dateutil>=2.1 in /usr/local/lib/python3.7/dist-packages (from matplotlib->fitter) (2.8.2)\n",
            "Requirement already satisfied: pyparsing!=2.0.4,!=2.1.2,!=2.1.6,>=2.0.1 in /usr/local/lib/python3.7/dist-packages (from matplotlib->fitter) (3.0.9)\n",
            "Requirement already satisfied: typing-extensions in /usr/local/lib/python3.7/dist-packages (from kiwisolver>=1.0.1->matplotlib->fitter) (4.2.0)\n",
            "Requirement already satisfied: six>=1.5 in /usr/local/lib/python3.7/dist-packages (from python-dateutil>=2.1->matplotlib->fitter) (1.15.0)\n",
            "Requirement already satisfied: pytz>=2017.3 in /usr/local/lib/python3.7/dist-packages (from pandas->fitter) (2022.1)\n",
            "Requirement already satisfied: ptyprocess>=0.5 in /usr/local/lib/python3.7/dist-packages (from pexpect->easydev->fitter) (0.7.0)\n",
            "Building wheels for collected packages: fitter, easydev\n",
            "  Building wheel for fitter (setup.py) ... \u001b[?25l\u001b[?25hdone\n",
            "  Created wheel for fitter: filename=fitter-1.4.0-py3-none-any.whl size=25026 sha256=6dc33ac9f7d9d6148b53b444cbbbde2dc1adfcadc705f19de64df3ace2467a2c\n",
            "  Stored in directory: /root/.cache/pip/wheels/e1/98/16/e5263962f94fbfaad79902aa94652516caccc1f1d51509e853\n",
            "  Building wheel for easydev (setup.py) ... \u001b[?25l\u001b[?25hdone\n",
            "  Created wheel for easydev: filename=easydev-0.12.0-py3-none-any.whl size=64232 sha256=5d75b6066cf66af73ca122d0f2a2dda7a62b122dbe56c17dd6272d9ad7bdea2d\n",
            "  Stored in directory: /root/.cache/pip/wheels/82/ab/83/fdfc4017ea44a585b6754752cc5f63f2d0d63fcc1317e7174b\n",
            "Successfully built fitter easydev\n",
            "Installing collected packages: colorlog, colorama, easydev, fitter\n",
            "Successfully installed colorama-0.4.4 colorlog-6.6.0 easydev-0.12.0 fitter-1.4.0\n"
          ]
        }
      ],
      "source": [
        "pip install fitter"
      ]
    },
    {
      "cell_type": "code",
      "execution_count": null,
      "metadata": {
        "id": "mzpFlIlvn-pR"
      },
      "outputs": [],
      "source": [
        "import numpy as np\n",
        "import pandas as pd\n",
        "import seaborn as sns\n",
        "import matplotlib.pyplot as plt\n",
        "from scipy import stats\n",
        "from fitter import Fitter"
      ]
    },
    {
      "cell_type": "code",
      "execution_count": null,
      "metadata": {
        "id": "uInzpkuAttRP",
        "colab": {
          "base_uri": "https://localhost:8080/"
        },
        "outputId": "fa3741fd-a9fe-41bf-a254-2de5d6d57f01"
      },
      "outputs": [
        {
          "output_type": "execute_result",
          "data": {
            "text/plain": [
              "Index(['time_received', 'ordinal'], dtype='object')"
            ]
          },
          "metadata": {},
          "execution_count": 72
        }
      ],
      "source": [
        "date_time.columns"
      ]
    },
    {
      "cell_type": "code",
      "execution_count": null,
      "metadata": {
        "id": "LzFlppWUs29M"
      },
      "outputs": [],
      "source": [
        ""
      ]
    },
    {
      "cell_type": "code",
      "execution_count": null,
      "metadata": {
        "id": "bc53s0p3uTzH",
        "colab": {
          "base_uri": "https://localhost:8080/"
        },
        "outputId": "ebfcaae7-23c1-4f1f-bb88-129e1bf8ac6b"
      },
      "outputs": [
        {
          "output_type": "execute_result",
          "data": {
            "text/plain": [
              "0          0.959144\n",
              "1          0.972836\n",
              "2          0.973727\n",
              "3          0.973773\n",
              "4          0.974271\n",
              "             ...   \n",
              "1577058    2.657766\n",
              "1577059    2.658472\n",
              "1577060    2.658507\n",
              "1577061    2.658634\n",
              "1577062    2.658704\n",
              "Name: time_received, Length: 1577063, dtype: float64"
            ]
          },
          "metadata": {},
          "execution_count": 73
        }
      ],
      "source": [
        "dav"
      ]
    },
    {
      "cell_type": "markdown",
      "metadata": {
        "id": "b4EheRafw-BJ"
      },
      "source": [
        "Fitting Distribution"
      ]
    },
    {
      "cell_type": "code",
      "execution_count": null,
      "metadata": {
        "id": "aSOuOii8oc5w",
        "colab": {
          "base_uri": "https://localhost:8080/",
          "height": 489
        },
        "outputId": "9a7d4543-2f58-41b9-f1f6-e1851a02061a"
      },
      "outputs": [
        {
          "output_type": "stream",
          "name": "stderr",
          "text": [
            "WARNING:root:SKIPPED gamma distribution (taking more than 30 seconds)\n",
            "WARNING:fitter.fitter:gamma was not fitted. no parameters available\n"
          ]
        },
        {
          "output_type": "execute_result",
          "data": {
            "text/plain": [
              "          sumsquare_error         aic           bic    kl_div\n",
              "uniform          9.814956  203.314545 -1.890449e+07  0.307979\n",
              "norm            12.058478  248.136212 -1.857983e+07  0.418075\n",
              "rayleigh        12.174744  242.047965 -1.856470e+07  0.403637\n",
              "logistic        12.292665  257.766806 -1.854950e+07  0.433739\n",
              "gamma                 inf         inf           inf       inf"
            ],
            "text/html": [
              "\n",
              "  <div id=\"df-7b8bed4a-de4a-4e97-ba79-f6c3eecd0465\">\n",
              "    <div class=\"colab-df-container\">\n",
              "      <div>\n",
              "<style scoped>\n",
              "    .dataframe tbody tr th:only-of-type {\n",
              "        vertical-align: middle;\n",
              "    }\n",
              "\n",
              "    .dataframe tbody tr th {\n",
              "        vertical-align: top;\n",
              "    }\n",
              "\n",
              "    .dataframe thead th {\n",
              "        text-align: right;\n",
              "    }\n",
              "</style>\n",
              "<table border=\"1\" class=\"dataframe\">\n",
              "  <thead>\n",
              "    <tr style=\"text-align: right;\">\n",
              "      <th></th>\n",
              "      <th>sumsquare_error</th>\n",
              "      <th>aic</th>\n",
              "      <th>bic</th>\n",
              "      <th>kl_div</th>\n",
              "    </tr>\n",
              "  </thead>\n",
              "  <tbody>\n",
              "    <tr>\n",
              "      <th>uniform</th>\n",
              "      <td>9.814956</td>\n",
              "      <td>203.314545</td>\n",
              "      <td>-1.890449e+07</td>\n",
              "      <td>0.307979</td>\n",
              "    </tr>\n",
              "    <tr>\n",
              "      <th>norm</th>\n",
              "      <td>12.058478</td>\n",
              "      <td>248.136212</td>\n",
              "      <td>-1.857983e+07</td>\n",
              "      <td>0.418075</td>\n",
              "    </tr>\n",
              "    <tr>\n",
              "      <th>rayleigh</th>\n",
              "      <td>12.174744</td>\n",
              "      <td>242.047965</td>\n",
              "      <td>-1.856470e+07</td>\n",
              "      <td>0.403637</td>\n",
              "    </tr>\n",
              "    <tr>\n",
              "      <th>logistic</th>\n",
              "      <td>12.292665</td>\n",
              "      <td>257.766806</td>\n",
              "      <td>-1.854950e+07</td>\n",
              "      <td>0.433739</td>\n",
              "    </tr>\n",
              "    <tr>\n",
              "      <th>gamma</th>\n",
              "      <td>inf</td>\n",
              "      <td>inf</td>\n",
              "      <td>inf</td>\n",
              "      <td>inf</td>\n",
              "    </tr>\n",
              "  </tbody>\n",
              "</table>\n",
              "</div>\n",
              "      <button class=\"colab-df-convert\" onclick=\"convertToInteractive('df-7b8bed4a-de4a-4e97-ba79-f6c3eecd0465')\"\n",
              "              title=\"Convert this dataframe to an interactive table.\"\n",
              "              style=\"display:none;\">\n",
              "        \n",
              "  <svg xmlns=\"http://www.w3.org/2000/svg\" height=\"24px\"viewBox=\"0 0 24 24\"\n",
              "       width=\"24px\">\n",
              "    <path d=\"M0 0h24v24H0V0z\" fill=\"none\"/>\n",
              "    <path d=\"M18.56 5.44l.94 2.06.94-2.06 2.06-.94-2.06-.94-.94-2.06-.94 2.06-2.06.94zm-11 1L8.5 8.5l.94-2.06 2.06-.94-2.06-.94L8.5 2.5l-.94 2.06-2.06.94zm10 10l.94 2.06.94-2.06 2.06-.94-2.06-.94-.94-2.06-.94 2.06-2.06.94z\"/><path d=\"M17.41 7.96l-1.37-1.37c-.4-.4-.92-.59-1.43-.59-.52 0-1.04.2-1.43.59L10.3 9.45l-7.72 7.72c-.78.78-.78 2.05 0 2.83L4 21.41c.39.39.9.59 1.41.59.51 0 1.02-.2 1.41-.59l7.78-7.78 2.81-2.81c.8-.78.8-2.07 0-2.86zM5.41 20L4 18.59l7.72-7.72 1.47 1.35L5.41 20z\"/>\n",
              "  </svg>\n",
              "      </button>\n",
              "      \n",
              "  <style>\n",
              "    .colab-df-container {\n",
              "      display:flex;\n",
              "      flex-wrap:wrap;\n",
              "      gap: 12px;\n",
              "    }\n",
              "\n",
              "    .colab-df-convert {\n",
              "      background-color: #E8F0FE;\n",
              "      border: none;\n",
              "      border-radius: 50%;\n",
              "      cursor: pointer;\n",
              "      display: none;\n",
              "      fill: #1967D2;\n",
              "      height: 32px;\n",
              "      padding: 0 0 0 0;\n",
              "      width: 32px;\n",
              "    }\n",
              "\n",
              "    .colab-df-convert:hover {\n",
              "      background-color: #E2EBFA;\n",
              "      box-shadow: 0px 1px 2px rgba(60, 64, 67, 0.3), 0px 1px 3px 1px rgba(60, 64, 67, 0.15);\n",
              "      fill: #174EA6;\n",
              "    }\n",
              "\n",
              "    [theme=dark] .colab-df-convert {\n",
              "      background-color: #3B4455;\n",
              "      fill: #D2E3FC;\n",
              "    }\n",
              "\n",
              "    [theme=dark] .colab-df-convert:hover {\n",
              "      background-color: #434B5C;\n",
              "      box-shadow: 0px 1px 3px 1px rgba(0, 0, 0, 0.15);\n",
              "      filter: drop-shadow(0px 1px 2px rgba(0, 0, 0, 0.3));\n",
              "      fill: #FFFFFF;\n",
              "    }\n",
              "  </style>\n",
              "\n",
              "      <script>\n",
              "        const buttonEl =\n",
              "          document.querySelector('#df-7b8bed4a-de4a-4e97-ba79-f6c3eecd0465 button.colab-df-convert');\n",
              "        buttonEl.style.display =\n",
              "          google.colab.kernel.accessAllowed ? 'block' : 'none';\n",
              "\n",
              "        async function convertToInteractive(key) {\n",
              "          const element = document.querySelector('#df-7b8bed4a-de4a-4e97-ba79-f6c3eecd0465');\n",
              "          const dataTable =\n",
              "            await google.colab.kernel.invokeFunction('convertToInteractive',\n",
              "                                                     [key], {});\n",
              "          if (!dataTable) return;\n",
              "\n",
              "          const docLinkHtml = 'Like what you see? Visit the ' +\n",
              "            '<a target=\"_blank\" href=https://colab.research.google.com/notebooks/data_table.ipynb>data table notebook</a>'\n",
              "            + ' to learn more about interactive tables.';\n",
              "          element.innerHTML = '';\n",
              "          dataTable['output_type'] = 'display_data';\n",
              "          await google.colab.output.renderOutput(dataTable, element);\n",
              "          const docLink = document.createElement('div');\n",
              "          docLink.innerHTML = docLinkHtml;\n",
              "          element.appendChild(docLink);\n",
              "        }\n",
              "      </script>\n",
              "    </div>\n",
              "  </div>\n",
              "  "
            ]
          },
          "metadata": {},
          "execution_count": 74
        },
        {
          "output_type": "display_data",
          "data": {
            "text/plain": [
              "<Figure size 432x288 with 1 Axes>"
            ],
            "image/png": "[encoded data removed]"
          },
          "metadata": {
            "needs_background": "light"
          }
        }
      ],
      "source": [
        "dist_fitter = Fitter(dav,\n",
        "                     distributions = [\"uniform\",\n",
        "                                      \"logistic\",\n",
        "                                      \"gamma\",\n",
        "                                      \"rayleigh\",\n",
        "                                      \"norm\"])\n",
        "dist_fitter.fit()\n",
        "dist_fitter.summary() "
      ]
    },
    {
      "cell_type": "code",
      "source": [
        "data.columns"
      ],
      "metadata": {
        "colab": {
          "base_uri": "https://localhost:8080/"
        },
        "id": "NArK57fTY1JJ",
        "outputId": "3ed74d8e-1cc7-44a3-af17-9bf5b4e15efd"
      },
      "execution_count": null,
      "outputs": [
        {
          "output_type": "execute_result",
          "data": {
            "text/plain": [
              "Index(['request_url', 'request_method', 'time_received', 'user_loc',\n",
              "       'byte_sent', 'vod_encoding', 'time_to_serve', 'maxage', 'session_id',\n",
              "       'cachecontrol', 'method', 'response_status', 'user_id', 'host_id',\n",
              "       'vod_id', 'statuscode', 'user_agent', 'request_header'],\n",
              "      dtype='object')"
            ]
          },
          "metadata": {},
          "execution_count": 85
        }
      ]
    },
    {
      "cell_type": "code",
      "execution_count": null,
      "metadata": {
        "id": "mOwyavBkC78h",
        "colab": {
          "base_uri": "https://localhost:8080/",
          "height": 265
        },
        "outputId": "4dc3f3d1-dea0-4fb6-e47c-39fb4f31594f"
      },
      "outputs": [
        {
          "output_type": "display_data",
          "data": {
            "text/plain": [
              "<Figure size 432x288 with 1 Axes>"
            ],
            "image/png": "[encoded data removed]"
          },
          "metadata": {
            "needs_background": "light"
          }
        }
      ],
      "source": [
        "from pandas.core.arrays.datetimes import DatetimeArray\n",
        "x = data['time_to_serve']\n",
        "y = data['user_loc']\n",
        "plt.plot(x,y)\n",
        "# beautify the x-labels\n",
        "#plt.plot_date(price_date, price_close, linestyle='solid')\n",
        "plt.show()"
      ]
    }
  ],
  "metadata": {
    "colab": {
      "collapsed_sections": [],
      "name": "Data Science Lab 1.2.ipynb",
      "provenance": []
    },
    "kernelspec": {
      "display_name": "Python 3",
      "name": "python3"
    },
    "language_info": {
      "name": "python"
    }
  },
  "nbformat": 4,
  "nbformat_minor": 0
}